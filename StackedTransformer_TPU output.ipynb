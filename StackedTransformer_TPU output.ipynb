{
  "cells": [
    {
      "cell_type": "code",
      "source": [
        "from google.colab import drive\n",
        "drive.mount('/content/drive')"
      ],
      "metadata": {
        "colab": {
          "base_uri": "https://localhost:8080/"
        },
        "id": "M7PD7fTV2Ny_",
        "outputId": "c559c10d-ff21-41aa-b7e9-0f3bbeff3959"
      },
      "id": "M7PD7fTV2Ny_",
      "execution_count": 1,
      "outputs": [
        {
          "output_type": "stream",
          "name": "stdout",
          "text": [
            "Drive already mounted at /content/drive; to attempt to forcibly remount, call drive.mount(\"/content/drive\", force_remount=True).\n"
          ]
        }
      ]
    },
    {
      "cell_type": "code",
      "source": [
        "%cd /content/drive/MyDrive/Transformer"
      ],
      "metadata": {
        "colab": {
          "base_uri": "https://localhost:8080/"
        },
        "id": "Yz2vY_5A2Zia",
        "outputId": "a9f2b3d3-3f51-4472-e849-c07fb26f3104"
      },
      "id": "Yz2vY_5A2Zia",
      "execution_count": 2,
      "outputs": [
        {
          "output_type": "stream",
          "name": "stdout",
          "text": [
            "/content/drive/MyDrive/Transformer\n"
          ]
        }
      ]
    },
    {
      "cell_type": "code",
      "execution_count": 3,
      "id": "f4557399",
      "metadata": {
        "id": "f4557399"
      },
      "outputs": [],
      "source": [
        "import numpy as np\n",
        "import pandas as pd\n",
        "import re\n",
        "import tensorflow as tf\n",
        "from tqdm import tqdm\n",
        "from encoders.apply_bpe import BPE\n",
        "import os"
      ]
    },
    {
      "cell_type": "code",
      "execution_count": 4,
      "id": "52f73ae1",
      "metadata": {
        "id": "52f73ae1"
      },
      "outputs": [],
      "source": [
        "#from dataset import *\n",
        "from Transformer import *\n",
        "from dataset import *"
      ]
    },
    {
      "cell_type": "code",
      "execution_count": 5,
      "id": "e450d7c5",
      "metadata": {
        "id": "e450d7c5"
      },
      "outputs": [],
      "source": [
        "vocab_size = 5374 + 2\n",
        "embedding_size = 64\n",
        "d_k = 8\n",
        "words = 64\n",
        "total_lines = 100\n",
        "codec_file = open(\"datasets/english_codec.txt\", encoding = 'utf-8')"
      ]
    },
    {
      "cell_type": "code",
      "execution_count": 6,
      "id": "bbfe9049",
      "metadata": {
        "colab": {
          "base_uri": "https://localhost:8080/"
        },
        "id": "bbfe9049",
        "outputId": "5eaad674-52b1-4a4a-a472-c8f950faf191"
      },
      "outputs": [
        {
          "output_type": "stream",
          "name": "stdout",
          "text": [
            "Primary Language Tokens: 5195\n",
            "Secondary Language Tokens: 5374\n"
          ]
        }
      ],
      "source": [
        "dataset = Dataset(\"datasets/english_dataset.txt\", \"datasets/hindi_dataset.txt\", total_lines = 10000)"
      ]
    },
    {
      "cell_type": "code",
      "execution_count": 7,
      "id": "b1c4f944",
      "metadata": {
        "colab": {
          "base_uri": "https://localhost:8080/"
        },
        "id": "b1c4f944",
        "outputId": "08c3248b-9fce-43e1-9ad9-131cef5c3afd"
      },
      "outputs": [
        {
          "output_type": "stream",
          "name": "stderr",
          "text": [
            "100%|██████████| 10000/10000 [00:00<00:00, 10243.45it/s]\n"
          ]
        },
        {
          "output_type": "stream",
          "name": "stdout",
          "text": [
            "Total Lines added: 144315\n"
          ]
        }
      ],
      "source": [
        "dataset.create_dataset()"
      ]
    },
    {
      "cell_type": "code",
      "execution_count": 8,
      "id": "3c7e2734",
      "metadata": {
        "id": "3c7e2734"
      },
      "outputs": [],
      "source": [
        "training_data = tf.data.Dataset.from_tensor_slices(((dataset.encoder_inputs, dataset.decoder_inputs), dataset.output_vectors))"
      ]
    },
    {
      "cell_type": "code",
      "execution_count": 9,
      "id": "71832575",
      "metadata": {
        "id": "71832575"
      },
      "outputs": [],
      "source": [
        "def create_model():\n",
        "    encoder_input = tf.keras.layers.Input((words))\n",
        "    decoder_input = tf.keras.layers.Input((words))\n",
        "    \n",
        "    encoder_embeddings = tf.keras.layers.Embedding(vocab_size + 2, embedding_size)(encoder_input)\n",
        "    decoder_embeddings = tf.keras.layers.Embedding(vocab_size + 2, embedding_size)(decoder_input)\n",
        "    \n",
        "    enc_pos = PositionalEmbedding(embedding_size = embedding_size, words = words)(encoder_embeddings)\n",
        "    dec_pos = PositionalEmbedding(embedding_size = embedding_size, words = words)(decoder_embeddings)\n",
        "    \n",
        "    encoder_outputs1 = Encoder(d_k = d_k, model_embedding = embedding_size)(enc_pos)\n",
        "    decoder_outputs1 = Decoder(input_words = words, model_embedding = embedding_size, d_k = d_k)((dec_pos, encoder_outputs1[0], encoder_outputs1[1]))\n",
        "\n",
        "    encoder_outputs2 = Encoder(d_k = d_k, model_embedding = embedding_size)(encoder_outputs1[1])\n",
        "    decoder_outputs2 = Decoder(input_words = words, model_embedding = embedding_size, d_k = d_k)((decoder_outputs1, encoder_outputs2[0], encoder_outputs2[1]))\n",
        "\n",
        "    encoder_outputs3 = Encoder(d_k = d_k, model_embedding = embedding_size)(encoder_outputs2[1])\n",
        "    decoder_outputs3 = Decoder(input_words = words, model_embedding = embedding_size, d_k = d_k)((decoder_outputs2, encoder_outputs3[0], encoder_outputs3[1]))\n",
        "\n",
        "    encoder_outputs4 = Encoder(d_k = d_k, model_embedding = embedding_size)(encoder_outputs3[1])\n",
        "    decoder_outputs4 = Decoder(input_words = words, model_embedding = embedding_size, d_k = d_k)((decoder_outputs3, encoder_outputs4[0], encoder_outputs4[1]))\n",
        "\n",
        "    encoder_outputs5 = Encoder(d_k = d_k, model_embedding = embedding_size)(encoder_outputs4[1])\n",
        "    decoder_outputs5 = Decoder(input_words = words, model_embedding = embedding_size, d_k = d_k)((decoder_outputs4, encoder_outputs5[0], encoder_outputs5[1]))\n",
        "\n",
        "    encoder_outputs6 = Encoder(d_k = d_k, model_embedding = embedding_size)(encoder_outputs5[1])\n",
        "    decoder_outputs6 = Decoder(input_words = words, model_embedding = embedding_size, d_k = d_k)((decoder_outputs5, encoder_outputs6[0], encoder_outputs6[1]))\n",
        "\n",
        "    encoder_outputs7 = Encoder(d_k = d_k, model_embedding = embedding_size)(encoder_outputs6[1])\n",
        "    decoder_outputs7 = Decoder(input_words = words, model_embedding = embedding_size, d_k = d_k)((decoder_outputs6, encoder_outputs7[0], encoder_outputs7[1]))\n",
        "    \n",
        "    \n",
        "    decoder_outputs = tf.keras.layers.Flatten()(decoder_outputs7)\n",
        "    decoder_outputs = tf.keras.layers.Dense(vocab_size)(decoder_outputs)\n",
        "    \n",
        "    output = tf.nn.softmax(decoder_outputs)\n",
        "    \n",
        "    model = tf.keras.Model(inputs = [encoder_input, decoder_input], outputs=[output])\n",
        "    \n",
        "    return model"
      ]
    },
    {
      "cell_type": "code",
      "execution_count": 10,
      "id": "f7e50544",
      "metadata": {
        "colab": {
          "base_uri": "https://localhost:8080/"
        },
        "id": "f7e50544",
        "outputId": "8ba53264-e059-4e3a-dd39-c69d747a2fc2"
      },
      "outputs": [
        {
          "output_type": "stream",
          "name": "stdout",
          "text": [
            "(None, 64, 64)\n",
            "(None, 64, 64)\n",
            "(None, 64, 64)\n",
            "(TensorShape([None, 64, 64]), TensorShape([None, 64, 64]), TensorShape([None, 64, 64]))\n",
            "(TensorShape([None, 64, 64]), TensorShape([None, 64, 64]), TensorShape([None, 64, 64]))\n",
            "(TensorShape([None, 64, 64]), TensorShape([None, 64, 64]), TensorShape([None, 64, 64]))\n",
            "(TensorShape([None, 64, 64]), TensorShape([None, 64, 64]), TensorShape([None, 64, 64]))\n",
            "(None, 64, 64)\n",
            "(TensorShape([None, 64, 64]), TensorShape([None, 64, 64]), TensorShape([None, 64, 64]))\n",
            "(TensorShape([None, 64, 64]), TensorShape([None, 64, 64]), TensorShape([None, 64, 64]))\n",
            "(TensorShape([None, 64, 64]), TensorShape([None, 64, 64]), TensorShape([None, 64, 64]))\n",
            "(TensorShape([None, 64, 64]), TensorShape([None, 64, 64]), TensorShape([None, 64, 64]))\n",
            "(None, 64, 64)\n",
            "(TensorShape([None, 64, 64]), TensorShape([None, 64, 64]), TensorShape([None, 64, 64]))\n",
            "(TensorShape([None, 64, 64]), TensorShape([None, 64, 64]), TensorShape([None, 64, 64]))\n",
            "(TensorShape([None, 64, 64]), TensorShape([None, 64, 64]), TensorShape([None, 64, 64]))\n",
            "(TensorShape([None, 64, 64]), TensorShape([None, 64, 64]), TensorShape([None, 64, 64]))\n",
            "(None, 64, 64)\n",
            "(TensorShape([None, 64, 64]), TensorShape([None, 64, 64]), TensorShape([None, 64, 64]))\n",
            "(TensorShape([None, 64, 64]), TensorShape([None, 64, 64]), TensorShape([None, 64, 64]))\n",
            "(TensorShape([None, 64, 64]), TensorShape([None, 64, 64]), TensorShape([None, 64, 64]))\n",
            "(TensorShape([None, 64, 64]), TensorShape([None, 64, 64]), TensorShape([None, 64, 64]))\n",
            "(None, 64, 64)\n",
            "(TensorShape([None, 64, 64]), TensorShape([None, 64, 64]), TensorShape([None, 64, 64]))\n",
            "(TensorShape([None, 64, 64]), TensorShape([None, 64, 64]), TensorShape([None, 64, 64]))\n",
            "(TensorShape([None, 64, 64]), TensorShape([None, 64, 64]), TensorShape([None, 64, 64]))\n",
            "(TensorShape([None, 64, 64]), TensorShape([None, 64, 64]), TensorShape([None, 64, 64]))\n",
            "(None, 64, 64)\n",
            "(TensorShape([None, 64, 64]), TensorShape([None, 64, 64]), TensorShape([None, 64, 64]))\n",
            "(TensorShape([None, 64, 64]), TensorShape([None, 64, 64]), TensorShape([None, 64, 64]))\n",
            "(TensorShape([None, 64, 64]), TensorShape([None, 64, 64]), TensorShape([None, 64, 64]))\n",
            "(TensorShape([None, 64, 64]), TensorShape([None, 64, 64]), TensorShape([None, 64, 64]))\n",
            "(None, 64, 64)\n",
            "(TensorShape([None, 64, 64]), TensorShape([None, 64, 64]), TensorShape([None, 64, 64]))\n",
            "(TensorShape([None, 64, 64]), TensorShape([None, 64, 64]), TensorShape([None, 64, 64]))\n",
            "(TensorShape([None, 64, 64]), TensorShape([None, 64, 64]), TensorShape([None, 64, 64]))\n",
            "(TensorShape([None, 64, 64]), TensorShape([None, 64, 64]), TensorShape([None, 64, 64]))\n",
            "Model: \"model\"\n",
            "__________________________________________________________________________________________________\n",
            " Layer (type)                   Output Shape         Param #     Connected to                     \n",
            "==================================================================================================\n",
            " input_1 (InputLayer)           [(None, 64)]         0           []                               \n",
            "                                                                                                  \n",
            " input_2 (InputLayer)           [(None, 64)]         0           []                               \n",
            "                                                                                                  \n",
            " embedding (Embedding)          (None, 64, 64)       344192      ['input_1[0][0]']                \n",
            "                                                                                                  \n",
            " embedding_1 (Embedding)        (None, 64, 64)       344192      ['input_2[0][0]']                \n",
            "                                                                                                  \n",
            " positional_embedding (Position  (None, 64, 64)      0           ['embedding[0][0]']              \n",
            " alEmbedding)                                                                                     \n",
            "                                                                                                  \n",
            " positional_embedding_1 (Positi  (None, 64, 64)      0           ['embedding_1[0][0]']            \n",
            " onalEmbedding)                                                                                   \n",
            "                                                                                                  \n",
            " encoder (Encoder)              ((None, 64, 64),     141250      ['positional_embedding[0][0]']   \n",
            "                                 (None, 64, 64))                                                  \n",
            "                                                                                                  \n",
            " decoder (Decoder)              (None, 64, 64)       274051      ['positional_embedding_1[0][0]', \n",
            "                                                                  'encoder[0][0]',                \n",
            "                                                                  'encoder[0][1]']                \n",
            "                                                                                                  \n",
            " encoder_1 (Encoder)            ((None, 64, 64),     141250      ['encoder[0][1]']                \n",
            "                                 (None, 64, 64))                                                  \n",
            "                                                                                                  \n",
            " decoder_1 (Decoder)            (None, 64, 64)       274051      ['decoder[0][0]',                \n",
            "                                                                  'encoder_1[0][0]',              \n",
            "                                                                  'encoder_1[0][1]']              \n",
            "                                                                                                  \n",
            " encoder_2 (Encoder)            ((None, 64, 64),     141250      ['encoder_1[0][1]']              \n",
            "                                 (None, 64, 64))                                                  \n",
            "                                                                                                  \n",
            " decoder_2 (Decoder)            (None, 64, 64)       274051      ['decoder_1[0][0]',              \n",
            "                                                                  'encoder_2[0][0]',              \n",
            "                                                                  'encoder_2[0][1]']              \n",
            "                                                                                                  \n",
            " encoder_3 (Encoder)            ((None, 64, 64),     141250      ['encoder_2[0][1]']              \n",
            "                                 (None, 64, 64))                                                  \n",
            "                                                                                                  \n",
            " decoder_3 (Decoder)            (None, 64, 64)       274051      ['decoder_2[0][0]',              \n",
            "                                                                  'encoder_3[0][0]',              \n",
            "                                                                  'encoder_3[0][1]']              \n",
            "                                                                                                  \n",
            " encoder_4 (Encoder)            ((None, 64, 64),     141250      ['encoder_3[0][1]']              \n",
            "                                 (None, 64, 64))                                                  \n",
            "                                                                                                  \n",
            " decoder_4 (Decoder)            (None, 64, 64)       274051      ['decoder_3[0][0]',              \n",
            "                                                                  'encoder_4[0][0]',              \n",
            "                                                                  'encoder_4[0][1]']              \n",
            "                                                                                                  \n",
            " encoder_5 (Encoder)            ((None, 64, 64),     141250      ['encoder_4[0][1]']              \n",
            "                                 (None, 64, 64))                                                  \n",
            "                                                                                                  \n",
            " decoder_5 (Decoder)            (None, 64, 64)       274051      ['decoder_4[0][0]',              \n",
            "                                                                  'encoder_5[0][0]',              \n",
            "                                                                  'encoder_5[0][1]']              \n",
            "                                                                                                  \n",
            " encoder_6 (Encoder)            ((None, 64, 64),     141250      ['encoder_5[0][1]']              \n",
            "                                 (None, 64, 64))                                                  \n",
            "                                                                                                  \n",
            " decoder_6 (Decoder)            (None, 64, 64)       274051      ['decoder_5[0][0]',              \n",
            "                                                                  'encoder_6[0][0]',              \n",
            "                                                                  'encoder_6[0][1]']              \n",
            "                                                                                                  \n",
            " flatten (Flatten)              (None, 4096)         0           ['decoder_6[0][0]']              \n",
            "                                                                                                  \n",
            " dense_49 (Dense)               (None, 5376)         22025472    ['flatten[0][0]']                \n",
            "                                                                                                  \n",
            " tf.nn.softmax (TFOpLambda)     (None, 5376)         0           ['dense_49[0][0]']               \n",
            "                                                                                                  \n",
            "==================================================================================================\n",
            "Total params: 25,620,963\n",
            "Trainable params: 25,616,448\n",
            "Non-trainable params: 4,515\n",
            "__________________________________________________________________________________________________\n"
          ]
        }
      ],
      "source": [
        "model = create_model()\n",
        "model.summary()"
      ]
    },
    {
      "cell_type": "code",
      "execution_count": 11,
      "id": "e35ee094",
      "metadata": {
        "colab": {
          "base_uri": "https://localhost:8080/"
        },
        "id": "e35ee094",
        "outputId": "b1f0b670-f1d7-488d-d836-4b7417e2abd2"
      },
      "outputs": [
        {
          "output_type": "stream",
          "name": "stdout",
          "text": [
            "All devices:  [LogicalDevice(name='/job:worker/replica:0/task:0/device:TPU:0', device_type='TPU'), LogicalDevice(name='/job:worker/replica:0/task:0/device:TPU:1', device_type='TPU'), LogicalDevice(name='/job:worker/replica:0/task:0/device:TPU:2', device_type='TPU'), LogicalDevice(name='/job:worker/replica:0/task:0/device:TPU:3', device_type='TPU'), LogicalDevice(name='/job:worker/replica:0/task:0/device:TPU:4', device_type='TPU'), LogicalDevice(name='/job:worker/replica:0/task:0/device:TPU:5', device_type='TPU'), LogicalDevice(name='/job:worker/replica:0/task:0/device:TPU:6', device_type='TPU'), LogicalDevice(name='/job:worker/replica:0/task:0/device:TPU:7', device_type='TPU')]\n"
          ]
        }
      ],
      "source": [
        "resolver = tf.distribute.cluster_resolver.TPUClusterResolver(tpu='')\n",
        "tf.config.experimental_connect_to_cluster(resolver)\n",
        "# This is the TPU initialization code that has to be at the beginning.\n",
        "tf.tpu.experimental.initialize_tpu_system(resolver)\n",
        "print(\"All devices: \", tf.config.list_logical_devices('TPU'))"
      ]
    },
    {
      "cell_type": "code",
      "execution_count": 12,
      "id": "508e074f",
      "metadata": {
        "id": "508e074f"
      },
      "outputs": [],
      "source": [
        "strategy = tf.distribute.TPUStrategy(resolver)"
      ]
    },
    {
      "cell_type": "code",
      "execution_count": 13,
      "id": "fe9823d4",
      "metadata": {
        "colab": {
          "base_uri": "https://localhost:8080/"
        },
        "id": "fe9823d4",
        "outputId": "3fcbb9b6-d90d-4521-ac49-0e19c4ba0ce5"
      },
      "outputs": [
        {
          "output_type": "stream",
          "name": "stdout",
          "text": [
            "(None, 64, 64)\n",
            "(None, 64, 64)\n",
            "(None, 64, 64)\n",
            "(TensorShape([None, 64, 64]), TensorShape([None, 64, 64]), TensorShape([None, 64, 64]))\n",
            "(TensorShape([None, 64, 64]), TensorShape([None, 64, 64]), TensorShape([None, 64, 64]))\n",
            "(TensorShape([None, 64, 64]), TensorShape([None, 64, 64]), TensorShape([None, 64, 64]))\n",
            "(TensorShape([None, 64, 64]), TensorShape([None, 64, 64]), TensorShape([None, 64, 64]))\n",
            "(None, 64, 64)\n",
            "(TensorShape([None, 64, 64]), TensorShape([None, 64, 64]), TensorShape([None, 64, 64]))\n",
            "(TensorShape([None, 64, 64]), TensorShape([None, 64, 64]), TensorShape([None, 64, 64]))\n",
            "(TensorShape([None, 64, 64]), TensorShape([None, 64, 64]), TensorShape([None, 64, 64]))\n",
            "(TensorShape([None, 64, 64]), TensorShape([None, 64, 64]), TensorShape([None, 64, 64]))\n",
            "(None, 64, 64)\n",
            "(TensorShape([None, 64, 64]), TensorShape([None, 64, 64]), TensorShape([None, 64, 64]))\n",
            "(TensorShape([None, 64, 64]), TensorShape([None, 64, 64]), TensorShape([None, 64, 64]))\n",
            "(TensorShape([None, 64, 64]), TensorShape([None, 64, 64]), TensorShape([None, 64, 64]))\n",
            "(TensorShape([None, 64, 64]), TensorShape([None, 64, 64]), TensorShape([None, 64, 64]))\n",
            "(None, 64, 64)\n",
            "(TensorShape([None, 64, 64]), TensorShape([None, 64, 64]), TensorShape([None, 64, 64]))\n",
            "(TensorShape([None, 64, 64]), TensorShape([None, 64, 64]), TensorShape([None, 64, 64]))\n",
            "(TensorShape([None, 64, 64]), TensorShape([None, 64, 64]), TensorShape([None, 64, 64]))\n",
            "(TensorShape([None, 64, 64]), TensorShape([None, 64, 64]), TensorShape([None, 64, 64]))\n",
            "(None, 64, 64)\n",
            "(TensorShape([None, 64, 64]), TensorShape([None, 64, 64]), TensorShape([None, 64, 64]))\n",
            "(TensorShape([None, 64, 64]), TensorShape([None, 64, 64]), TensorShape([None, 64, 64]))\n",
            "(TensorShape([None, 64, 64]), TensorShape([None, 64, 64]), TensorShape([None, 64, 64]))\n",
            "(TensorShape([None, 64, 64]), TensorShape([None, 64, 64]), TensorShape([None, 64, 64]))\n",
            "(None, 64, 64)\n",
            "(TensorShape([None, 64, 64]), TensorShape([None, 64, 64]), TensorShape([None, 64, 64]))\n",
            "(TensorShape([None, 64, 64]), TensorShape([None, 64, 64]), TensorShape([None, 64, 64]))\n",
            "(TensorShape([None, 64, 64]), TensorShape([None, 64, 64]), TensorShape([None, 64, 64]))\n",
            "(TensorShape([None, 64, 64]), TensorShape([None, 64, 64]), TensorShape([None, 64, 64]))\n",
            "(None, 64, 64)\n",
            "(TensorShape([None, 64, 64]), TensorShape([None, 64, 64]), TensorShape([None, 64, 64]))\n",
            "(TensorShape([None, 64, 64]), TensorShape([None, 64, 64]), TensorShape([None, 64, 64]))\n",
            "(TensorShape([None, 64, 64]), TensorShape([None, 64, 64]), TensorShape([None, 64, 64]))\n",
            "(TensorShape([None, 64, 64]), TensorShape([None, 64, 64]), TensorShape([None, 64, 64]))\n",
            "Epoch 1/10\n",
            "141/141 [==============================] - 230s 389ms/step - loss: 7.5549\n",
            "Epoch 2/10\n",
            "141/141 [==============================] - 50s 358ms/step - loss: 7.1675\n",
            "Epoch 3/10\n",
            "141/141 [==============================] - 55s 394ms/step - loss: 6.5109\n",
            "Epoch 4/10\n",
            "141/141 [==============================] - 48s 340ms/step - loss: 5.5866\n",
            "Epoch 5/10\n",
            "141/141 [==============================] - 25s 178ms/step - loss: 5.0662\n",
            "Epoch 6/10\n",
            "141/141 [==============================] - 25s 177ms/step - loss: 4.5805\n",
            "Epoch 7/10\n",
            "141/141 [==============================] - 25s 179ms/step - loss: 4.2016\n",
            "Epoch 8/10\n",
            "141/141 [==============================] - 25s 176ms/step - loss: 3.8816\n",
            "Epoch 9/10\n",
            "141/141 [==============================] - 27s 189ms/step - loss: 3.6068\n",
            "Epoch 10/10\n",
            "141/141 [==============================] - 25s 177ms/step - loss: 3.3749\n",
            "Epoch 1/150\n",
            "141/141 [==============================] - 198s 177ms/step - loss: 2.4008\n",
            "Epoch 2/150\n",
            "141/141 [==============================] - 25s 177ms/step - loss: 2.1602\n",
            "Epoch 3/150\n",
            "141/141 [==============================] - 25s 177ms/step - loss: 2.0235\n",
            "Epoch 4/150\n",
            "141/141 [==============================] - 25s 177ms/step - loss: 1.9268\n",
            "Epoch 5/150\n",
            "141/141 [==============================] - 25s 178ms/step - loss: 1.8506\n",
            "Epoch 6/150\n",
            "141/141 [==============================] - 25s 177ms/step - loss: 1.7874\n",
            "Epoch 7/150\n",
            "141/141 [==============================] - 25s 177ms/step - loss: 1.7297\n",
            "Epoch 8/150\n",
            "141/141 [==============================] - 25s 177ms/step - loss: 1.6770\n",
            "Epoch 9/150\n",
            "141/141 [==============================] - 25s 177ms/step - loss: 1.6275\n",
            "Epoch 10/150\n",
            "141/141 [==============================] - 25s 177ms/step - loss: 1.5813\n",
            "Epoch 11/150\n",
            "141/141 [==============================] - 25s 177ms/step - loss: 1.5358\n",
            "Epoch 12/150\n",
            "141/141 [==============================] - 25s 177ms/step - loss: 1.4923\n",
            "Epoch 13/150\n",
            "141/141 [==============================] - 25s 177ms/step - loss: 1.4498\n",
            "Epoch 14/150\n",
            "141/141 [==============================] - 25s 177ms/step - loss: 1.4124\n",
            "Epoch 15/150\n",
            "141/141 [==============================] - 25s 178ms/step - loss: 1.3731\n",
            "Epoch 16/150\n",
            "141/141 [==============================] - 25s 177ms/step - loss: 1.3348\n",
            "Epoch 17/150\n",
            "141/141 [==============================] - 25s 177ms/step - loss: 1.2990\n",
            "Epoch 18/150\n",
            "141/141 [==============================] - 25s 177ms/step - loss: 1.2660\n",
            "Epoch 19/150\n",
            "141/141 [==============================] - 25s 179ms/step - loss: 1.2308\n",
            "Epoch 20/150\n",
            "141/141 [==============================] - 25s 178ms/step - loss: 1.2018\n",
            "Epoch 21/150\n",
            "141/141 [==============================] - 25s 177ms/step - loss: 1.1686\n",
            "Epoch 22/150\n",
            "141/141 [==============================] - 25s 177ms/step - loss: 1.1381\n",
            "Epoch 23/150\n",
            "141/141 [==============================] - 25s 178ms/step - loss: 1.1107\n",
            "Epoch 24/150\n",
            "141/141 [==============================] - 25s 178ms/step - loss: 1.0805\n",
            "Epoch 25/150\n",
            "141/141 [==============================] - 25s 179ms/step - loss: 1.0541\n",
            "Epoch 26/150\n",
            "141/141 [==============================] - 25s 178ms/step - loss: 1.0249\n",
            "Epoch 27/150\n",
            "141/141 [==============================] - 25s 179ms/step - loss: 0.9962\n",
            "Epoch 28/150\n",
            "141/141 [==============================] - 25s 177ms/step - loss: 0.9722\n",
            "Epoch 29/150\n",
            "141/141 [==============================] - 25s 177ms/step - loss: 0.9439\n",
            "Epoch 30/150\n",
            "141/141 [==============================] - 25s 177ms/step - loss: 0.9473\n",
            "Epoch 31/150\n",
            "141/141 [==============================] - 25s 177ms/step - loss: 0.9012\n",
            "Epoch 32/150\n",
            "141/141 [==============================] - 25s 177ms/step - loss: 0.8815\n",
            "Epoch 33/150\n",
            "141/141 [==============================] - 25s 177ms/step - loss: 0.8499\n",
            "Epoch 34/150\n",
            "141/141 [==============================] - 25s 177ms/step - loss: 0.8284\n",
            "Epoch 35/150\n",
            "141/141 [==============================] - 25s 177ms/step - loss: 0.8177\n",
            "Epoch 36/150\n",
            "141/141 [==============================] - 25s 177ms/step - loss: 0.7870\n",
            "Epoch 37/150\n",
            "141/141 [==============================] - 25s 177ms/step - loss: 0.7673\n",
            "Epoch 38/150\n",
            "141/141 [==============================] - 25s 177ms/step - loss: 0.7524\n",
            "Epoch 39/150\n",
            "141/141 [==============================] - 25s 178ms/step - loss: 0.7332\n",
            "Epoch 40/150\n",
            "141/141 [==============================] - 25s 178ms/step - loss: 0.7116\n",
            "Epoch 41/150\n",
            "141/141 [==============================] - 25s 178ms/step - loss: 0.7033\n",
            "Epoch 42/150\n",
            "141/141 [==============================] - 25s 178ms/step - loss: 0.6934\n",
            "Epoch 43/150\n",
            "141/141 [==============================] - 25s 177ms/step - loss: 0.6726\n",
            "Epoch 44/150\n",
            "141/141 [==============================] - 25s 178ms/step - loss: 0.6567\n",
            "Epoch 45/150\n",
            "141/141 [==============================] - 25s 178ms/step - loss: 0.6418\n",
            "Epoch 46/150\n",
            "141/141 [==============================] - 25s 179ms/step - loss: 0.6149\n",
            "Epoch 47/150\n",
            "141/141 [==============================] - 25s 180ms/step - loss: 0.6069\n",
            "Epoch 48/150\n",
            "141/141 [==============================] - 25s 180ms/step - loss: 0.5970\n",
            "Epoch 49/150\n",
            "141/141 [==============================] - 25s 180ms/step - loss: 0.5825\n",
            "Epoch 50/150\n",
            "141/141 [==============================] - 25s 179ms/step - loss: 0.5630\n",
            "Epoch 51/150\n",
            "141/141 [==============================] - 25s 179ms/step - loss: 0.5530\n",
            "Epoch 52/150\n",
            "141/141 [==============================] - 25s 180ms/step - loss: 0.5384\n",
            "Epoch 53/150\n",
            "141/141 [==============================] - 26s 181ms/step - loss: 0.5201\n",
            "Epoch 54/150\n",
            "141/141 [==============================] - 25s 181ms/step - loss: 0.5152\n",
            "Epoch 55/150\n",
            "141/141 [==============================] - 25s 179ms/step - loss: 0.5005\n",
            "Epoch 56/150\n",
            "141/141 [==============================] - 25s 178ms/step - loss: 0.4816\n",
            "Epoch 57/150\n",
            "141/141 [==============================] - 25s 178ms/step - loss: 0.4662\n",
            "Epoch 58/150\n",
            "141/141 [==============================] - 25s 179ms/step - loss: 0.4894\n",
            "Epoch 59/150\n",
            "141/141 [==============================] - 25s 180ms/step - loss: 0.4520\n",
            "Epoch 60/150\n",
            "141/141 [==============================] - 25s 179ms/step - loss: 0.4664\n",
            "Epoch 61/150\n",
            "141/141 [==============================] - 25s 178ms/step - loss: 0.4502\n",
            "Epoch 62/150\n",
            "141/141 [==============================] - 25s 178ms/step - loss: 0.4191\n",
            "Epoch 63/150\n",
            "141/141 [==============================] - 25s 178ms/step - loss: 0.4008\n",
            "Epoch 64/150\n",
            "141/141 [==============================] - 25s 179ms/step - loss: 0.3899\n",
            "Epoch 65/150\n",
            "141/141 [==============================] - 25s 179ms/step - loss: 0.3922\n",
            "Epoch 66/150\n",
            "141/141 [==============================] - 25s 178ms/step - loss: 0.3956\n",
            "Epoch 67/150\n",
            "141/141 [==============================] - 25s 177ms/step - loss: 0.3903\n",
            "Epoch 68/150\n",
            "141/141 [==============================] - 25s 178ms/step - loss: 0.3811\n",
            "Epoch 69/150\n",
            "141/141 [==============================] - 25s 178ms/step - loss: 0.3571\n",
            "Epoch 70/150\n",
            "141/141 [==============================] - 25s 177ms/step - loss: 0.3442\n",
            "Epoch 71/150\n",
            "141/141 [==============================] - 25s 178ms/step - loss: 0.3483\n",
            "Epoch 72/150\n",
            "141/141 [==============================] - 25s 177ms/step - loss: 0.3363\n",
            "Epoch 73/150\n",
            "141/141 [==============================] - 25s 177ms/step - loss: 0.3385\n",
            "Epoch 74/150\n",
            "141/141 [==============================] - 25s 179ms/step - loss: 0.3567\n",
            "Epoch 75/150\n",
            "141/141 [==============================] - 25s 181ms/step - loss: 0.3103\n",
            "Epoch 76/150\n",
            "141/141 [==============================] - 25s 181ms/step - loss: 0.2992\n",
            "Epoch 77/150\n",
            "141/141 [==============================] - 25s 179ms/step - loss: 0.2888\n",
            "Epoch 78/150\n",
            "141/141 [==============================] - 25s 178ms/step - loss: 0.2930\n",
            "Epoch 79/150\n",
            "141/141 [==============================] - 25s 178ms/step - loss: 0.3162\n",
            "Epoch 80/150\n",
            "141/141 [==============================] - 26s 184ms/step - loss: 0.2907\n",
            "Epoch 81/150\n",
            "141/141 [==============================] - 25s 179ms/step - loss: 0.2707\n",
            "Epoch 82/150\n",
            "141/141 [==============================] - 25s 178ms/step - loss: 0.2596\n",
            "Epoch 83/150\n",
            "141/141 [==============================] - 25s 178ms/step - loss: 0.2658\n",
            "Epoch 84/150\n",
            "141/141 [==============================] - 25s 178ms/step - loss: 0.2517\n",
            "Epoch 85/150\n",
            "141/141 [==============================] - 25s 177ms/step - loss: 0.2468\n",
            "Epoch 86/150\n",
            "141/141 [==============================] - 25s 178ms/step - loss: 0.2734\n",
            "Epoch 87/150\n",
            "141/141 [==============================] - 25s 178ms/step - loss: 0.2500\n",
            "Epoch 88/150\n",
            "141/141 [==============================] - 25s 178ms/step - loss: 0.2298\n",
            "Epoch 89/150\n",
            "141/141 [==============================] - 25s 178ms/step - loss: 0.2501\n",
            "Epoch 90/150\n",
            "141/141 [==============================] - 25s 177ms/step - loss: 0.2650\n",
            "Epoch 91/150\n",
            "141/141 [==============================] - 25s 178ms/step - loss: 0.2258\n",
            "Epoch 92/150\n",
            "141/141 [==============================] - 25s 177ms/step - loss: 0.2056\n",
            "Epoch 93/150\n",
            "141/141 [==============================] - 25s 178ms/step - loss: 0.1926\n",
            "Epoch 94/150\n",
            "141/141 [==============================] - 25s 178ms/step - loss: 0.1895\n",
            "Epoch 95/150\n",
            "141/141 [==============================] - 25s 178ms/step - loss: 0.2165\n",
            "Epoch 96/150\n",
            "141/141 [==============================] - 25s 178ms/step - loss: 0.2067\n",
            "Epoch 97/150\n",
            "141/141 [==============================] - 25s 178ms/step - loss: 0.2242\n",
            "Epoch 98/150\n",
            "141/141 [==============================] - 25s 178ms/step - loss: 0.2196\n",
            "Epoch 99/150\n",
            "141/141 [==============================] - 25s 178ms/step - loss: 0.1860\n",
            "Epoch 100/150\n",
            "141/141 [==============================] - 25s 179ms/step - loss: 0.1878\n",
            "Epoch 101/150\n",
            "141/141 [==============================] - 25s 179ms/step - loss: 0.1783\n",
            "Epoch 102/150\n",
            "141/141 [==============================] - 25s 178ms/step - loss: 0.1595\n",
            "Epoch 103/150\n",
            "141/141 [==============================] - 25s 178ms/step - loss: 0.1799\n",
            "Epoch 104/150\n",
            "141/141 [==============================] - 25s 181ms/step - loss: 0.2303\n",
            "Epoch 105/150\n",
            "141/141 [==============================] - 25s 180ms/step - loss: 0.1638\n",
            "Epoch 106/150\n",
            "141/141 [==============================] - 25s 179ms/step - loss: 0.1713\n",
            "Epoch 107/150\n",
            "141/141 [==============================] - 25s 178ms/step - loss: 0.1530\n",
            "Epoch 108/150\n",
            "141/141 [==============================] - 25s 180ms/step - loss: 0.1516\n",
            "Epoch 109/150\n",
            "141/141 [==============================] - 25s 179ms/step - loss: 0.1516\n",
            "Epoch 110/150\n",
            "141/141 [==============================] - 25s 178ms/step - loss: 0.1804\n",
            "Epoch 111/150\n",
            "141/141 [==============================] - 25s 178ms/step - loss: 0.1568\n",
            "Epoch 112/150\n",
            "141/141 [==============================] - 25s 178ms/step - loss: 0.1465\n",
            "Epoch 113/150\n",
            "141/141 [==============================] - 25s 178ms/step - loss: 0.1366\n",
            "Epoch 114/150\n",
            "141/141 [==============================] - 25s 178ms/step - loss: 0.2411\n",
            "Epoch 115/150\n",
            "141/141 [==============================] - 25s 177ms/step - loss: 0.1801\n",
            "Epoch 116/150\n",
            "141/141 [==============================] - 25s 177ms/step - loss: 0.1527\n",
            "Epoch 117/150\n",
            "141/141 [==============================] - 25s 177ms/step - loss: 0.1314\n",
            "Epoch 118/150\n",
            "141/141 [==============================] - 25s 178ms/step - loss: 0.1462\n",
            "Epoch 119/150\n",
            "141/141 [==============================] - 25s 178ms/step - loss: 0.1769\n",
            "Epoch 120/150\n",
            "141/141 [==============================] - 25s 178ms/step - loss: 0.1473\n",
            "Epoch 121/150\n",
            "141/141 [==============================] - 25s 177ms/step - loss: 0.2230\n",
            "Epoch 122/150\n",
            "141/141 [==============================] - 25s 178ms/step - loss: 0.1190\n",
            "Epoch 123/150\n",
            "141/141 [==============================] - 25s 178ms/step - loss: 0.1067\n",
            "Epoch 124/150\n",
            "141/141 [==============================] - 25s 178ms/step - loss: 0.0926\n",
            "Epoch 125/150\n",
            "141/141 [==============================] - 25s 179ms/step - loss: 0.0808\n",
            "Epoch 126/150\n",
            "141/141 [==============================] - 25s 179ms/step - loss: 0.0808\n",
            "Epoch 127/150\n",
            "141/141 [==============================] - 25s 178ms/step - loss: 0.0851\n",
            "Epoch 128/150\n",
            "141/141 [==============================] - 25s 177ms/step - loss: 0.1122\n",
            "Epoch 129/150\n",
            "141/141 [==============================] - 26s 182ms/step - loss: 0.1546\n",
            "Epoch 130/150\n",
            "141/141 [==============================] - 25s 178ms/step - loss: 0.1662\n",
            "Epoch 131/150\n",
            "141/141 [==============================] - 25s 177ms/step - loss: 0.1439\n",
            "Epoch 132/150\n",
            "141/141 [==============================] - 25s 178ms/step - loss: 0.1056\n",
            "Epoch 133/150\n",
            "141/141 [==============================] - 25s 177ms/step - loss: 0.0871\n",
            "Epoch 134/150\n",
            "141/141 [==============================] - 25s 178ms/step - loss: 0.0831\n",
            "Epoch 135/150\n",
            "141/141 [==============================] - 25s 178ms/step - loss: 0.0979\n",
            "Epoch 136/150\n",
            "141/141 [==============================] - 25s 178ms/step - loss: 0.0961\n",
            "Epoch 137/150\n",
            "141/141 [==============================] - 25s 177ms/step - loss: 0.1106\n",
            "Epoch 138/150\n",
            "141/141 [==============================] - 25s 178ms/step - loss: 0.1011\n",
            "Epoch 139/150\n",
            "141/141 [==============================] - 25s 177ms/step - loss: 0.1006\n",
            "Epoch 140/150\n",
            "141/141 [==============================] - 25s 177ms/step - loss: 0.1074\n",
            "Epoch 141/150\n",
            "141/141 [==============================] - 25s 177ms/step - loss: 0.0964\n",
            "Epoch 142/150\n",
            "141/141 [==============================] - 25s 177ms/step - loss: 0.0953\n",
            "Epoch 143/150\n",
            "141/141 [==============================] - 25s 177ms/step - loss: 0.0894\n",
            "Epoch 144/150\n",
            "141/141 [==============================] - 25s 178ms/step - loss: 0.1338\n",
            "Epoch 145/150\n",
            "141/141 [==============================] - 25s 177ms/step - loss: 0.1556\n",
            "Epoch 146/150\n",
            "141/141 [==============================] - 25s 178ms/step - loss: 0.1492\n",
            "Epoch 147/150\n",
            "141/141 [==============================] - 25s 180ms/step - loss: 0.0888\n",
            "Epoch 148/150\n",
            "141/141 [==============================] - 25s 178ms/step - loss: 0.0673\n",
            "Epoch 149/150\n",
            "141/141 [==============================] - 25s 178ms/step - loss: 0.1081\n",
            "Epoch 150/150\n",
            "141/141 [==============================] - 25s 178ms/step - loss: 0.0810\n"
          ]
        }
      ],
      "source": [
        "with strategy.scope():\n",
        "    model = create_model()\n",
        "    \n",
        "    model.compile(loss=tf.keras.losses.SparseCategoricalCrossentropy(), optimizer=tf.keras.optimizers.Adam(learning_rate = 0.001, beta_1 = 0.01))\n",
        "    \n",
        "    history = model.fit((dataset.encoder_inputs, dataset.decoder_inputs), dataset.output_vectors, batch_size = 1024, epochs = 10)\n",
        "\n",
        "    model.compile(loss=tf.keras.losses.SparseCategoricalCrossentropy(), optimizer=tf.keras.optimizers.Adam(learning_rate = 0.0001, beta_1 = 0.001))\n",
        "\n",
        "    history = model.fit((dataset.encoder_inputs, dataset.decoder_inputs), dataset.output_vectors, batch_size = 1024, epochs = 150)\n",
        "    "
      ]
    },
    {
      "cell_type": "code",
      "execution_count": 14,
      "id": "c233ad0a",
      "metadata": {
        "id": "c233ad0a",
        "colab": {
          "base_uri": "https://localhost:8080/",
          "height": 609
        },
        "outputId": "7bde0ad5-b1a5-4cf2-9d02-496822cff217"
      },
      "outputs": [
        {
          "output_type": "execute_result",
          "data": {
            "text/plain": [
              "[<matplotlib.lines.Line2D at 0x7fa1facd8310>]"
            ]
          },
          "metadata": {},
          "execution_count": 14
        },
        {
          "output_type": "display_data",
          "data": {
            "text/plain": [
              "<Figure size 720x720 with 1 Axes>"
            ],
            "image/png": "[encoded data removed]"
          },
          "metadata": {
            "needs_background": "light"
          }
        }
      ],
      "source": [
        "plt.figure(figsize=(10, 10))\n",
        "plt.plot(history.history['loss'])"
      ]
    },
    {
      "cell_type": "code",
      "execution_count": 24,
      "id": "185148c1",
      "metadata": {
        "id": "185148c1"
      },
      "outputs": [],
      "source": [
        "key = \"politicians do not have permission to do what needs to be done.\""
      ]
    },
    {
      "cell_type": "code",
      "execution_count": 25,
      "id": "5d2043df",
      "metadata": {
        "id": "5d2043df",
        "colab": {
          "base_uri": "https://localhost:8080/"
        },
        "outputId": "aba7a70a-2e91-41b0-e24a-2df32cb70186"
      },
      "outputs": [
        {
          "output_type": "stream",
          "name": "stdout",
          "text": [
            "[[ 244 2417 1627 2881  529 2267 3070 1796 1627 1792 5144 1796  121 5177\n",
            "  2912    0    0    0    0    0    0    0    0    0    0    0    0    0\n",
            "     0    0    0    0    0    0    0    0    0    0    0    0    0    0\n",
            "     0    0    0    0    0    0    0    0    0    0    0    0    0    0\n",
            "     0    0    0    0    0    0    0    0]]\n"
          ]
        },
        {
          "output_type": "stream",
          "name": "stderr",
          "text": [
            "100%|██████████| 64/64 [04:29<00:00,  4.21s/it]"
          ]
        },
        {
          "output_type": "stream",
          "name": "stdout",
          "text": [
            "\n",
            "\n",
            "राजनीतिज्ञों के पास जो कार्य करना चाहिए, वह कि कि रहा कि न है करना , प्रकार वह होते हैं | हैं सकती है चाहिए । चाहिए । चाहिए चाहिए . . . . है । । । . . . . है । . . . । । . । . । । । । । । । ।\n"
          ]
        },
        {
          "output_type": "stream",
          "name": "stderr",
          "text": [
            "\n"
          ]
        }
      ],
      "source": [
        "bpe_obj = BPE(codes = codec_file)\n",
        "key = bpe_obj.process_line(key)\n",
        "\n",
        "encoding = dataset.primary_vectorizer(key).numpy().reshape(1, 64)\n",
        "print(encoding)\n",
        "decoding = np.zeros(shape=(1, 64))\n",
        "\n",
        "for i in tqdm(range(64)):\n",
        "    decoding[0, i] = tf.argmax(model((decoding, encoding)), -1)\n",
        "\n",
        "decoding = tf.convert_to_tensor(decoding)\n",
        "translation = dataset.convert_to_secondary(decoding)\n",
        "print(\"\\n\")\n",
        "print(translation.replace('@@ ', ''))"
      ]
    },
    {
      "cell_type": "code",
      "source": [
        "key = \"This percentage is even greater than the percentage in India.\""
      ],
      "metadata": {
        "id": "l1QOsuYDe6lT"
      },
      "id": "l1QOsuYDe6lT",
      "execution_count": 26,
      "outputs": []
    },
    {
      "cell_type": "code",
      "source": [
        "bpe_obj = BPE(codes = codec_file)\n",
        "key = bpe_obj.process_line(key)\n",
        "\n",
        "encoding = dataset.primary_vectorizer(key).numpy().reshape(1, 64)\n",
        "print(encoding)\n",
        "decoding = np.zeros(shape=(1, 64))\n",
        "\n",
        "for i in tqdm(range(64)):\n",
        "    decoding[0, i] = tf.argmax(model((decoding, encoding)), -1)\n",
        "\n",
        "decoding = tf.convert_to_tensor(decoding)\n",
        "translation = dataset.convert_to_secondary(decoding)\n",
        "print(\"\\n\")\n",
        "print(translation.replace('@@ ', ''))"
      ],
      "metadata": {
        "colab": {
          "base_uri": "https://localhost:8080/"
        },
        "id": "Kg6Sbqz_fRpi",
        "outputId": "946d13ef-84e2-4dd3-c61e-e112dcab73d2"
      },
      "id": "Kg6Sbqz_fRpi",
      "execution_count": 27,
      "outputs": [
        {
          "output_type": "stream",
          "name": "stdout",
          "text": [
            "[[ 990 1923 4688 1156 5134 2208  968  967 1923 4688 1538 2662    0    0\n",
            "     0    0    0    0    0    0    0    0    0    0    0    0    0    0\n",
            "     0    0    0    0    0    0    0    0    0    0    0    0    0    0\n",
            "     0    0    0    0    0    0    0    0    0    0    0    0    0    0\n",
            "     0    0    0    0    0    0    0    0]]\n"
          ]
        },
        {
          "output_type": "stream",
          "name": "stderr",
          "text": [
            "100%|██████████| 64/64 [04:26<00:00,  4.17s/it]"
          ]
        },
        {
          "output_type": "stream",
          "name": "stdout",
          "text": [
            "\n",
            "\n",
            "यह प्रतिशत भारत में हिन्दुओं प्रतिशत से अधिक है। है। है। है। है। है। है। है। है। है। है। है। है। है। है। है। है। है। की है। हैं। हैं। हैं। हैं। हैं। हैं। हैं। हैं। हैं। हैं। हैं। हैं। हैं। हैं। हैं। हैं। हैं। हैं। हैं। हैं। हैं। हैं। हैं। हैं। हैं। हैं। हैं। हैं। हैं। हैं। हैं। हैं। हैं। हैं। हैं।\n"
          ]
        },
        {
          "output_type": "stream",
          "name": "stderr",
          "text": [
            "\n"
          ]
        }
      ]
    },
    {
      "cell_type": "code",
      "source": [
        "key = \"humans destroyed the commons that they depended on.\""
      ],
      "metadata": {
        "id": "kiT9eco3fTsi"
      },
      "id": "kiT9eco3fTsi",
      "execution_count": 28,
      "outputs": []
    },
    {
      "cell_type": "code",
      "source": [
        "bpe_obj = BPE(codes = codec_file)\n",
        "key = bpe_obj.process_line(key)\n",
        "\n",
        "encoding = dataset.primary_vectorizer(key).numpy().reshape(1, 64)\n",
        "print(encoding)\n",
        "decoding = np.zeros(shape=(1, 64))\n",
        "\n",
        "for i in tqdm(range(64)):\n",
        "    decoding[0, i] = tf.argmax(model((decoding, encoding)), -1)\n",
        "\n",
        "decoding = tf.convert_to_tensor(decoding)\n",
        "translation = dataset.convert_to_secondary(decoding)\n",
        "print(\"\\n\")\n",
        "print(translation.replace('@@ ', ''))"
      ],
      "metadata": {
        "colab": {
          "base_uri": "https://localhost:8080/"
        },
        "id": "xvc3uhiFfbux",
        "outputId": "7a64f6a7-04f6-4cca-fcb4-a6cc5ec46079"
      },
      "id": "xvc3uhiFfbux",
      "execution_count": 29,
      "outputs": [
        {
          "output_type": "stream",
          "name": "stdout",
          "text": [
            "[[4478 2417 4946 1744  967 4787 2507  154 1675 3107 5107  230    0    0\n",
            "     0    0    0    0    0    0    0    0    0    0    0    0    0    0\n",
            "     0    0    0    0    0    0    0    0    0    0    0    0    0    0\n",
            "     0    0    0    0    0    0    0    0    0    0    0    0    0    0\n",
            "     0    0    0    0    0    0    0    0]]\n"
          ]
        },
        {
          "output_type": "stream",
          "name": "stderr",
          "text": [
            "100%|██████████| 64/64 [04:10<00:00,  3.91s/it]"
          ]
        },
        {
          "output_type": "stream",
          "name": "stdout",
          "text": [
            "\n",
            "\n",
            "मानवों ने उन ही साझे संसाधनों को नष्ट किया जिन पर वो आधारित थे। थे। थे। थे। थे। थे। थे। थे। थे। थे। थे। थे। थे। थे। थे। थे। थे। थे। थे। थे। थे। थे। थे। थे। थे। थे। थे। थे। थे। थे। थे। थे। थे। थे। थे। थे। थे। थे। थे। थे। थे। थे। थे। थे। थे। थे। थे।\n"
          ]
        },
        {
          "output_type": "stream",
          "name": "stderr",
          "text": [
            "\n"
          ]
        }
      ]
    },
    {
      "cell_type": "code",
      "source": [
        "key = \"Sanskrit is world's oldest language of vedas.\""
      ],
      "metadata": {
        "id": "19e4Q5wOfdux"
      },
      "id": "19e4Q5wOfdux",
      "execution_count": 30,
      "outputs": []
    },
    {
      "cell_type": "code",
      "source": [
        "bpe_obj = BPE(codes = codec_file)\n",
        "key = bpe_obj.process_line(key)\n",
        "\n",
        "encoding = dataset.primary_vectorizer(key).numpy().reshape(1, 64)\n",
        "print(encoding)\n",
        "decoding = np.zeros(shape=(1, 64))\n",
        "\n",
        "for i in tqdm(range(64)):\n",
        "    decoding[0, i] = tf.argmax(model((decoding, encoding)), -1)\n",
        "\n",
        "decoding = tf.convert_to_tensor(decoding)\n",
        "translation = dataset.convert_to_secondary(decoding)\n",
        "print(\"\\n\")\n",
        "print(translation.replace('@@ ', ''))"
      ],
      "metadata": {
        "colab": {
          "base_uri": "https://localhost:8080/"
        },
        "id": "FAJCtFvofmTh",
        "outputId": "69a6a8fd-4401-48a0-8302-2ee2571b37ab"
      },
      "id": "FAJCtFvofmTh",
      "execution_count": 31,
      "outputs": [
        {
          "output_type": "stream",
          "name": "stdout",
          "text": [
            "[[3872 1156 3169 2997 3332 2890  243 1585  839  928    0    0    0    0\n",
            "     0    0    0    0    0    0    0    0    0    0    0    0    0    0\n",
            "     0    0    0    0    0    0    0    0    0    0    0    0    0    0\n",
            "     0    0    0    0    0    0    0    0    0    0    0    0    0    0\n",
            "     0    0    0    0    0    0    0    0]]\n"
          ]
        },
        {
          "output_type": "stream",
          "name": "stderr",
          "text": [
            "100%|██████████| 64/64 [04:15<00:00,  4.00s/it]"
          ]
        },
        {
          "output_type": "stream",
          "name": "stdout",
          "text": [
            "\n",
            "\n",
            "संस्कृत वका सेसेसेसेसेसेलिए में करें ही... ... ... ... ... ... ... ... ... हीहै। | है। है। है। नाम है। शामिल हैं है। है। है। है। शामिल है. है। है। है। है। है। है। है। है। है। है। है। है। है। है। है। है। है। है। है। है। है। | है। | रहे रहे\n"
          ]
        },
        {
          "output_type": "stream",
          "name": "stderr",
          "text": [
            "\n"
          ]
        }
      ]
    },
    {
      "cell_type": "code",
      "source": [
        "key = \"In Indian culture, Holy texts have a special importance, and the Purans are among the most important of all the holy texts.\""
      ],
      "metadata": {
        "id": "Msr3ZFo8jAHw"
      },
      "id": "Msr3ZFo8jAHw",
      "execution_count": 34,
      "outputs": []
    },
    {
      "cell_type": "code",
      "source": [
        "bpe_obj = BPE(codes = codec_file)\n",
        "key = bpe_obj.process_line(key)\n",
        "\n",
        "encoding = dataset.primary_vectorizer(key).numpy().reshape(1, 64)\n",
        "print(encoding)\n",
        "decoding = np.zeros(shape=(1, 64))\n",
        "\n",
        "for i in tqdm(range(64)):\n",
        "    decoding[0, i] = tf.argmax(model((decoding, encoding)), -1)\n",
        "\n",
        "decoding = tf.convert_to_tensor(decoding)\n",
        "translation = dataset.convert_to_secondary(decoding)\n",
        "print(\"\\n\")\n",
        "print(translation.replace('@@ ', ''))"
      ],
      "metadata": {
        "colab": {
          "base_uri": "https://localhost:8080/"
        },
        "id": "-MTaAY6FjGFQ",
        "outputId": "bc80405f-a14a-4fae-de90-94a9cc8606aa"
      },
      "id": "-MTaAY6FjGFQ",
      "execution_count": 35,
      "outputs": [
        {
          "output_type": "stream",
          "name": "stdout",
          "text": [
            "[[3165 2661 1595  231 4623 3252 4948 4396  529 2833 1649 1973 2585  877\n",
            "   967 4259 2417 3754 3126  967 3193 3609 1585 1697  967 3870 4948 1277\n",
            "     0    0    0    0    0    0    0    0    0    0    0    0    0    0\n",
            "     0    0    0    0    0    0    0    0    0    0    0    0    0    0\n",
            "     0    0    0    0    0    0    0    0]]\n"
          ]
        },
        {
          "output_type": "stream",
          "name": "stderr",
          "text": [
            "100%|██████████| 64/64 [04:29<00:00,  4.22s/it]"
          ]
        },
        {
          "output_type": "stream",
          "name": "stdout",
          "text": [
            "\n",
            "\n",
            "भारतीय जीवन-धारा में जिन ग्रन्थों का महत्वपूर्ण स्थान है उनमें पुराण भक्ति-ग्रंथों के रूप में बहुत महत्वपूर्ण माने जाते हैं। हैं। हैं। हैं। हैं। हैं। हैं। हैं। हैं। हैं। हैं। हैं। हैं। हैं। हैं। हैं। हैं। हैं। हैं। हैं। हैं। हैं। हैं। हैं। हैं। हैं। हैं। हैं। हैं। हैं। हैं। हैं। हैं। हैं। हैं। हैं। हैं। हैं।\n"
          ]
        },
        {
          "output_type": "stream",
          "name": "stderr",
          "text": [
            "\n"
          ]
        }
      ]
    },
    {
      "cell_type": "code",
      "source": [
        "key = \"In Indian culture, Holy texts are written in Sanskrit language in greater percentage\""
      ],
      "metadata": {
        "id": "GbRYJnGujH8R"
      },
      "id": "GbRYJnGujH8R",
      "execution_count": 39,
      "outputs": []
    },
    {
      "cell_type": "code",
      "source": [
        "bpe_obj = BPE(codes = codec_file)\n",
        "key = bpe_obj.process_line(key)\n",
        "\n",
        "encoding = dataset.primary_vectorizer(key).numpy().reshape(1, 64)\n",
        "print(encoding)\n",
        "decoding = np.zeros(shape=(1, 64))\n",
        "\n",
        "for i in tqdm(range(64)):\n",
        "    decoding[0, i] = tf.argmax(model((decoding, encoding)), -1)\n",
        "\n",
        "decoding = tf.convert_to_tensor(decoding)\n",
        "translation = dataset.convert_to_secondary(decoding)\n",
        "print(\"\\n\")\n",
        "print(translation.replace('@@ ', ''))"
      ],
      "metadata": {
        "colab": {
          "base_uri": "https://localhost:8080/"
        },
        "id": "2SCuOi3tjWLA",
        "outputId": "b6b789e9-bf78-47cc-88d0-a7a739d559c9"
      },
      "id": "2SCuOi3tjWLA",
      "execution_count": 40,
      "outputs": [
        {
          "output_type": "stream",
          "name": "stdout",
          "text": [
            "[[3165 2661 1595  231 4623 3252 4948 4396 3754 4395 1538 3872  243 1538\n",
            "  2208 1923 4688    0    0    0    0    0    0    0    0    0    0    0\n",
            "     0    0    0    0    0    0    0    0    0    0    0    0    0    0\n",
            "     0    0    0    0    0    0    0    0    0    0    0    0    0    0\n",
            "     0    0    0    0    0    0    0    0]]\n"
          ]
        },
        {
          "output_type": "stream",
          "name": "stderr",
          "text": [
            "100%|██████████| 64/64 [04:16<00:00,  4.00s/it]"
          ]
        },
        {
          "output_type": "stream",
          "name": "stdout",
          "text": [
            "\n",
            "\n",
            "भारतीय आयु संस्कृत बिप्राप्त की के तततहो ही | होना है के दो तथा बी बी दो दो दो दो है, | है . और . . . और . और पर . और . . भी पर . पर करने . ) है . . . . . . . . . . . . . . . .\n"
          ]
        },
        {
          "output_type": "stream",
          "name": "stderr",
          "text": [
            "\n"
          ]
        }
      ]
    },
    {
      "cell_type": "code",
      "source": [
        "key = \"India and China are countries in Asia\""
      ],
      "metadata": {
        "id": "IqT2zstxjYnx"
      },
      "id": "IqT2zstxjYnx",
      "execution_count": 41,
      "outputs": []
    },
    {
      "cell_type": "code",
      "source": [
        "bpe_obj = BPE(codes = codec_file)\n",
        "key = bpe_obj.process_line(key)\n",
        "\n",
        "encoding = dataset.primary_vectorizer(key).numpy().reshape(1, 64)\n",
        "print(encoding)\n",
        "decoding = np.zeros(shape=(1, 64))\n",
        "\n",
        "for i in tqdm(range(64)):\n",
        "    decoding[0, i] = tf.argmax(model((decoding, encoding)), -1)\n",
        "\n",
        "decoding = tf.convert_to_tensor(decoding)\n",
        "translation = dataset.convert_to_secondary(decoding)\n",
        "print(\"\\n\")\n",
        "print(translation.replace('@@ ', ''))"
      ],
      "metadata": {
        "colab": {
          "base_uri": "https://localhost:8080/"
        },
        "id": "CTH6bgB_jdxw",
        "outputId": "cf6e0e8b-cbb4-4074-d534-d3ef1f136210"
      },
      "id": "CTH6bgB_jdxw",
      "execution_count": 42,
      "outputs": [
        {
          "output_type": "stream",
          "name": "stdout",
          "text": [
            "[[2844  877  399 3754  690 1538 1373 2833    0    0    0    0    0    0\n",
            "     0    0    0    0    0    0    0    0    0    0    0    0    0    0\n",
            "     0    0    0    0    0    0    0    0    0    0    0    0    0    0\n",
            "     0    0    0    0    0    0    0    0    0    0    0    0    0    0\n",
            "     0    0    0    0    0    0    0    0]]\n"
          ]
        },
        {
          "output_type": "stream",
          "name": "stderr",
          "text": [
            "100%|██████████| 64/64 [04:07<00:00,  3.86s/it]"
          ]
        },
        {
          "output_type": "stream",
          "name": "stdout",
          "text": [
            "\n",
            "\n",
            "और और याही ों एक एक मयामममजुभर भर है, है, है हैं हूँ, हूँ, । । कोहै। सहेकोहै। है। हैं। हैं। हैं। हैं। हैं। हैं। हैं। हैं। हैं। हैं। हैं। हैं। हैं। हैं। हैं। हैं। हैं। हैं। हैं। हैं। हैं। हैं। हैं। हैं। हैं। हैं। हैं। । । । । । । । ।\n"
          ]
        },
        {
          "output_type": "stream",
          "name": "stderr",
          "text": [
            "\n"
          ]
        }
      ]
    },
    {
      "cell_type": "code",
      "source": [
        "key = \"Ancient Sanskrit literature is extremely old, vast and diverse\""
      ],
      "metadata": {
        "id": "r3JTWpDjm4F-"
      },
      "id": "r3JTWpDjm4F-",
      "execution_count": 43,
      "outputs": []
    },
    {
      "cell_type": "code",
      "source": [
        "bpe_obj = BPE(codes = codec_file)\n",
        "key = bpe_obj.process_line(key)\n",
        "\n",
        "encoding = dataset.primary_vectorizer(key).numpy().reshape(1, 64)\n",
        "print(encoding)\n",
        "decoding = np.zeros(shape=(1, 64))\n",
        "\n",
        "for i in tqdm(range(64)):\n",
        "    decoding[0, i] = tf.argmax(model((decoding, encoding)), -1)\n",
        "\n",
        "decoding = tf.convert_to_tensor(decoding)\n",
        "translation = dataset.convert_to_secondary(decoding)\n",
        "print(\"\\n\")\n",
        "print(translation.replace('@@ ', ''))"
      ],
      "metadata": {
        "colab": {
          "base_uri": "https://localhost:8080/"
        },
        "id": "M2GThlJVnb5_",
        "outputId": "c76884de-6264-4836-8b10-fa2d1eb10a81"
      },
      "id": "M2GThlJVnb5_",
      "execution_count": 44,
      "outputs": [
        {
          "output_type": "stream",
          "name": "stdout",
          "text": [
            "[[ 118 4644 3872  368 1156 1619  533    6 3003  877 1903 4402    0    0\n",
            "     0    0    0    0    0    0    0    0    0    0    0    0    0    0\n",
            "     0    0    0    0    0    0    0    0    0    0    0    0    0    0\n",
            "     0    0    0    0    0    0    0    0    0    0    0    0    0    0\n",
            "     0    0    0    0    0    0    0    0]]\n"
          ]
        },
        {
          "output_type": "stream",
          "name": "stderr",
          "text": [
            "100%|██████████| 64/64 [04:20<00:00,  4.07s/it]"
          ]
        },
        {
          "output_type": "stream",
          "name": "stdout",
          "text": [
            "\n",
            "\n",
            "संस्कृत का प्राचीन साहित्य अत्यन्त प्राचीन विशाल और विविधतापूर्ण है। है। है। है। है। है। है। है। में है। है। है। है। है। है। है. है. की है. दीहै. है. है. टटहै. है. में है. है. हुए ते है. से है. है. है. है. है. है. है. है. है. है. है. है. है. है. है. है. है. है.\n"
          ]
        },
        {
          "output_type": "stream",
          "name": "stderr",
          "text": [
            "\n"
          ]
        }
      ]
    },
    {
      "cell_type": "code",
      "source": [
        "key = \"Ancient Sanskrit literature is extremely old religious creations in Hindi.\""
      ],
      "metadata": {
        "id": "gY7f1iqzneB_"
      },
      "id": "gY7f1iqzneB_",
      "execution_count": 45,
      "outputs": []
    },
    {
      "cell_type": "code",
      "source": [
        "bpe_obj = BPE(codes = codec_file)\n",
        "key = bpe_obj.process_line(key)\n",
        "\n",
        "encoding = dataset.primary_vectorizer(key).numpy().reshape(1, 64)\n",
        "print(encoding)\n",
        "decoding = np.zeros(shape=(1, 64))\n",
        "\n",
        "for i in tqdm(range(64)):\n",
        "    decoding[0, i] = tf.argmax(model((decoding, encoding)), -1)\n",
        "\n",
        "decoding = tf.convert_to_tensor(decoding)\n",
        "translation = dataset.convert_to_secondary(decoding)\n",
        "print(\"\\n\")\n",
        "print(translation.replace('@@ ', ''))"
      ],
      "metadata": {
        "colab": {
          "base_uri": "https://localhost:8080/"
        },
        "id": "YDdT2Loan4kw",
        "outputId": "0e9a957a-14df-4b09-b0d7-2729787b7264"
      },
      "id": "YDdT2Loan4kw",
      "execution_count": 46,
      "outputs": [
        {
          "output_type": "stream",
          "name": "stdout",
          "text": [
            "[[ 118 4644 3872  368 1156 1619 1222 4730 4923 1118 1538 1212 2062    0\n",
            "     0    0    0    0    0    0    0    0    0    0    0    0    0    0\n",
            "     0    0    0    0    0    0    0    0    0    0    0    0    0    0\n",
            "     0    0    0    0    0    0    0    0    0    0    0    0    0    0\n",
            "     0    0    0    0    0    0    0    0]]\n"
          ]
        },
        {
          "output_type": "stream",
          "name": "stderr",
          "text": [
            "100%|██████████| 64/64 [04:32<00:00,  4.26s/it]"
          ]
        },
        {
          "output_type": "stream",
          "name": "stdout",
          "text": [
            "\n",
            "\n",
            "संस्कृत एक दूसरा पूर्ण सहायता सहायता सम्का बोउपयोग उपयोग का ों स्ट है। का है। है। है। है। है। है। है। है। है। है। की होती है। ध्यान का है| है| है| है| है| है| है| है| है| है| है| है| है| है| है| है| है| है| है| है| है। है। है। है। है। है। है। है। है। है। है। है। है।\n"
          ]
        },
        {
          "output_type": "stream",
          "name": "stderr",
          "text": [
            "\n"
          ]
        }
      ]
    }
  ],
  "metadata": {
    "kernelspec": {
      "display_name": "Python 3 (ipykernel)",
      "language": "python",
      "name": "python3"
    },
    "language_info": {
      "codemirror_mode": {
        "name": "ipython",
        "version": 3
      },
      "file_extension": ".py",
      "mimetype": "text/x-python",
      "name": "python",
      "nbconvert_exporter": "python",
      "pygments_lexer": "ipython3",
      "version": "3.9.5"
    },
    "colab": {
      "provenance": []
    },
    "accelerator": "TPU",
    "gpuClass": "standard"
  },
  "nbformat": 4,
  "nbformat_minor": 5
}