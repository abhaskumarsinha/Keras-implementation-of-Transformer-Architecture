{
 "cells": [
  {
   "cell_type": "code",
   "execution_count": 1,
   "id": "60f034d0",
   "metadata": {},
   "outputs": [],
   "source": [
    "with open(\"datasets/english_corpus05.txt\", \"r\", encoding='utf-8') as f:\n",
    "    lines = f.readlines()\n",
    "\n",
    "# Keep only the first 10,000 lines\n",
    "lines = lines[:10000]\n",
    "\n",
    "with open(\"datasets/english_corpus05.txt\", \"w\", encoding='utf-8') as f:\n",
    "    f.writelines(lines)\n"
   ]
  },
  {
   "cell_type": "code",
   "execution_count": 2,
   "id": "351c542b",
   "metadata": {},
   "outputs": [],
   "source": [
    "with open(\"datasets/hindi_corpus05.txt\", \"r\", encoding='utf-8') as f:\n",
    "    lines = f.readlines()\n",
    "\n",
    "# Keep only the first 10,000 lines\n",
    "lines = lines[:10000]\n",
    "\n",
    "with open(\"datasets/hindi_corpus05.txt\", \"w\", encoding='utf-8') as f:\n",
    "    f.writelines(lines)\n"
   ]
  }
 ],
 "metadata": {
  "kernelspec": {
   "display_name": "Python 3 (ipykernel)",
   "language": "python",
   "name": "python3"
  },
  "language_info": {
   "codemirror_mode": {
    "name": "ipython",
    "version": 3
   },
   "file_extension": ".py",
   "mimetype": "text/x-python",
   "name": "python",
   "nbconvert_exporter": "python",
   "pygments_lexer": "ipython3",
   "version": "3.9.5"
  }
 },
 "nbformat": 4,
 "nbformat_minor": 5
}
