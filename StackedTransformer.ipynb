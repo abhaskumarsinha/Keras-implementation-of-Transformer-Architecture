{
 "cells": [
  {
   "cell_type": "code",
   "execution_count": 1,
   "id": "2f16f64e",
   "metadata": {},
   "outputs": [],
   "source": [
    "import numpy as np\n",
    "import pandas as pd\n",
    "import re\n",
    "import tensorflow as tf\n",
    "from tqdm import tqdm\n",
    "from encoders.apply_bpe import BPE"
   ]
  },
  {
   "cell_type": "code",
   "execution_count": 2,
   "id": "bb8fcff7",
   "metadata": {},
   "outputs": [],
   "source": [
    "#from dataset import *\n",
    "from Transformer import *\n",
    "from dataset import *"
   ]
  },
  {
   "cell_type": "code",
   "execution_count": 3,
   "id": "82c9f039",
   "metadata": {},
   "outputs": [],
   "source": [
    "vocab_size = 1046+2\n",
    "embedding_size = 64\n",
    "d_k = 8\n",
    "words = 64\n",
    "total_lines = 100\n",
    "codec_file = open(\"datasets/english_codec.txt\", encoding = 'utf-8')"
   ]
  },
  {
   "cell_type": "code",
   "execution_count": 4,
   "id": "4f8f8f37",
   "metadata": {
    "scrolled": true
   },
   "outputs": [
    {
     "name": "stdout",
     "output_type": "stream",
     "text": [
      "Primary Language Tokens: 1042\n",
      "Secondary Language Tokens: 1046\n"
     ]
    }
   ],
   "source": [
    "dataset = Dataset(\"datasets/english_dataset.txt\", \"datasets/hindi_dataset.txt\", total_lines = 100)"
   ]
  },
  {
   "cell_type": "code",
   "execution_count": 5,
   "id": "11c29553",
   "metadata": {
    "scrolled": true
   },
   "outputs": [
    {
     "name": "stderr",
     "output_type": "stream",
     "text": [
      "100%|█████████████████████████████████████████████████████████████████████████████| 100/100 [00:00<00:00, 33264.37it/s]"
     ]
    },
    {
     "name": "stdout",
     "output_type": "stream",
     "text": [
      "Total Lines added: 1516\n"
     ]
    },
    {
     "name": "stderr",
     "output_type": "stream",
     "text": [
      "\n"
     ]
    }
   ],
   "source": [
    "dataset.create_dataset()"
   ]
  },
  {
   "cell_type": "code",
   "execution_count": 6,
   "id": "af073a2c",
   "metadata": {},
   "outputs": [],
   "source": [
    "encoder_input = tf.keras.layers.Input((words))\n",
    "decoder_input = tf.keras.layers.Input((words))"
   ]
  },
  {
   "cell_type": "code",
   "execution_count": 7,
   "id": "d197d0c9",
   "metadata": {},
   "outputs": [],
   "source": [
    "encoder_embeddings = tf.keras.layers.Embedding(vocab_size + 2, embedding_size)(encoder_input)\n",
    "decoder_embeddings = tf.keras.layers.Embedding(vocab_size + 2, embedding_size)(decoder_input)"
   ]
  },
  {
   "cell_type": "code",
   "execution_count": 8,
   "id": "ddcf802d",
   "metadata": {},
   "outputs": [
    {
     "name": "stdout",
     "output_type": "stream",
     "text": [
      "(None, 64, 64)\n",
      "(None, 64, 64)\n"
     ]
    }
   ],
   "source": [
    "enc_pos = PositionalEmbedding(embedding_size = embedding_size, words = words)(encoder_embeddings)\n",
    "dec_pos = PositionalEmbedding(embedding_size = embedding_size, words = words)(decoder_embeddings)"
   ]
  },
  {
   "cell_type": "code",
   "execution_count": 9,
   "id": "b8c2e047",
   "metadata": {
    "scrolled": true
   },
   "outputs": [
    {
     "name": "stdout",
     "output_type": "stream",
     "text": [
      "(None, 64, 64)\n",
      "(TensorShape([None, 64, 64]), TensorShape([None, 64, 64]), TensorShape([None, 64, 64]))\n",
      "(TensorShape([None, 64, 64]), TensorShape([None, 64, 64]), TensorShape([None, 64, 64]))\n",
      "(TensorShape([None, 64, 64]), TensorShape([None, 64, 64]), TensorShape([None, 64, 64]))\n",
      "(TensorShape([None, 64, 64]), TensorShape([None, 64, 64]), TensorShape([None, 64, 64]))\n",
      "(None, 64, 64)\n",
      "(TensorShape([None, 64, 64]), TensorShape([None, 64, 64]), TensorShape([None, 64, 64]))\n",
      "(TensorShape([None, 64, 64]), TensorShape([None, 64, 64]), TensorShape([None, 64, 64]))\n",
      "(TensorShape([None, 64, 64]), TensorShape([None, 64, 64]), TensorShape([None, 64, 64]))\n",
      "(TensorShape([None, 64, 64]), TensorShape([None, 64, 64]), TensorShape([None, 64, 64]))\n",
      "(None, 64, 64)\n",
      "(TensorShape([None, 64, 64]), TensorShape([None, 64, 64]), TensorShape([None, 64, 64]))\n",
      "(TensorShape([None, 64, 64]), TensorShape([None, 64, 64]), TensorShape([None, 64, 64]))\n",
      "(TensorShape([None, 64, 64]), TensorShape([None, 64, 64]), TensorShape([None, 64, 64]))\n",
      "(TensorShape([None, 64, 64]), TensorShape([None, 64, 64]), TensorShape([None, 64, 64]))\n",
      "(None, 64, 64)\n",
      "(TensorShape([None, 64, 64]), TensorShape([None, 64, 64]), TensorShape([None, 64, 64]))\n",
      "(TensorShape([None, 64, 64]), TensorShape([None, 64, 64]), TensorShape([None, 64, 64]))\n",
      "(TensorShape([None, 64, 64]), TensorShape([None, 64, 64]), TensorShape([None, 64, 64]))\n",
      "(TensorShape([None, 64, 64]), TensorShape([None, 64, 64]), TensorShape([None, 64, 64]))\n",
      "(None, 64, 64)\n",
      "(TensorShape([None, 64, 64]), TensorShape([None, 64, 64]), TensorShape([None, 64, 64]))\n",
      "(TensorShape([None, 64, 64]), TensorShape([None, 64, 64]), TensorShape([None, 64, 64]))\n",
      "(TensorShape([None, 64, 64]), TensorShape([None, 64, 64]), TensorShape([None, 64, 64]))\n",
      "(TensorShape([None, 64, 64]), TensorShape([None, 64, 64]), TensorShape([None, 64, 64]))\n",
      "(None, 64, 64)\n",
      "(TensorShape([None, 64, 64]), TensorShape([None, 64, 64]), TensorShape([None, 64, 64]))\n",
      "(TensorShape([None, 64, 64]), TensorShape([None, 64, 64]), TensorShape([None, 64, 64]))\n",
      "(TensorShape([None, 64, 64]), TensorShape([None, 64, 64]), TensorShape([None, 64, 64]))\n",
      "(TensorShape([None, 64, 64]), TensorShape([None, 64, 64]), TensorShape([None, 64, 64]))\n",
      "(None, 64, 64)\n",
      "(TensorShape([None, 64, 64]), TensorShape([None, 64, 64]), TensorShape([None, 64, 64]))\n",
      "(TensorShape([None, 64, 64]), TensorShape([None, 64, 64]), TensorShape([None, 64, 64]))\n",
      "(TensorShape([None, 64, 64]), TensorShape([None, 64, 64]), TensorShape([None, 64, 64]))\n",
      "(TensorShape([None, 64, 64]), TensorShape([None, 64, 64]), TensorShape([None, 64, 64]))\n"
     ]
    }
   ],
   "source": [
    "encoder_outputs1 = Encoder(d_k = d_k, model_embedding = embedding_size)(enc_pos)\n",
    "decoder_outputs1 = Decoder(input_words = words, model_embedding = embedding_size, d_k = d_k)((dec_pos, encoder_outputs1[0], encoder_outputs1[1]))\n",
    "\n",
    "encoder_outputs2 = Encoder(d_k = d_k, model_embedding = embedding_size)(encoder_outputs1[1])\n",
    "decoder_outputs2 = Decoder(input_words = words, model_embedding = embedding_size, d_k = d_k)((decoder_outputs1, encoder_outputs2[0], encoder_outputs2[1]))\n",
    "\n",
    "encoder_outputs3 = Encoder(d_k = d_k, model_embedding = embedding_size)(encoder_outputs2[1])\n",
    "decoder_outputs3 = Decoder(input_words = words, model_embedding = embedding_size, d_k = d_k)((decoder_outputs2, encoder_outputs3[0], encoder_outputs3[1]))\n",
    "\n",
    "encoder_outputs4 = Encoder(d_k = d_k, model_embedding = embedding_size)(encoder_outputs3[1])\n",
    "decoder_outputs4 = Decoder(input_words = words, model_embedding = embedding_size, d_k = d_k)((decoder_outputs3, encoder_outputs4[0], encoder_outputs4[1]))\n",
    "\n",
    "encoder_outputs5 = Encoder(d_k = d_k, model_embedding = embedding_size)(encoder_outputs4[1])\n",
    "decoder_outputs5 = Decoder(input_words = words, model_embedding = embedding_size, d_k = d_k)((decoder_outputs4, encoder_outputs5[0], encoder_outputs5[1]))\n",
    "\n",
    "encoder_outputs6 = Encoder(d_k = d_k, model_embedding = embedding_size)(encoder_outputs5[1])\n",
    "decoder_outputs6 = Decoder(input_words = words, model_embedding = embedding_size, d_k = d_k)((decoder_outputs5, encoder_outputs6[0], encoder_outputs6[1]))\n",
    "\n",
    "encoder_outputs7 = Encoder(d_k = d_k, model_embedding = embedding_size)(encoder_outputs6[1])\n",
    "decoder_outputs7 = Decoder(input_words = words, model_embedding = embedding_size, d_k = d_k)((decoder_outputs6, encoder_outputs7[0], encoder_outputs7[1]))\n"
   ]
  },
  {
   "cell_type": "code",
   "execution_count": 10,
   "id": "77e5aa2d",
   "metadata": {},
   "outputs": [
    {
     "data": {
      "text/plain": [
       "TensorShape([None, 1048])"
      ]
     },
     "execution_count": 10,
     "metadata": {},
     "output_type": "execute_result"
    }
   ],
   "source": [
    "decoder_outputs = tf.keras.layers.Flatten()(decoder_outputs6)\n",
    "#decoder_outputs = tf.keras.layers.Dense(500)(decoder_outputs)\n",
    "decoder_outputs = tf.keras.layers.Dense(vocab_size)(decoder_outputs)\n",
    "decoder_outputs.shape"
   ]
  },
  {
   "cell_type": "code",
   "execution_count": 11,
   "id": "e9fc8515",
   "metadata": {},
   "outputs": [],
   "source": [
    "output = tf.nn.softmax(decoder_outputs)"
   ]
  },
  {
   "cell_type": "code",
   "execution_count": 12,
   "id": "cde305d5",
   "metadata": {},
   "outputs": [],
   "source": [
    "model = tf.keras.Model(inputs = [encoder_input, decoder_input], outputs=[output])"
   ]
  },
  {
   "cell_type": "code",
   "execution_count": 13,
   "id": "b7249d78",
   "metadata": {},
   "outputs": [
    {
     "name": "stdout",
     "output_type": "stream",
     "text": [
      "Model: \"model\"\n",
      "__________________________________________________________________________________________________\n",
      " Layer (type)                   Output Shape         Param #     Connected to                     \n",
      "==================================================================================================\n",
      " input_1 (InputLayer)           [(None, 64)]         0           []                               \n",
      "                                                                                                  \n",
      " input_2 (InputLayer)           [(None, 64)]         0           []                               \n",
      "                                                                                                  \n",
      " embedding (Embedding)          (None, 64, 64)       67200       ['input_1[0][0]']                \n",
      "                                                                                                  \n",
      " embedding_1 (Embedding)        (None, 64, 64)       67200       ['input_2[0][0]']                \n",
      "                                                                                                  \n",
      " positional_embedding (Position  (None, 64, 64)      0           ['embedding[0][0]']              \n",
      " alEmbedding)                                                                                     \n",
      "                                                                                                  \n",
      " positional_embedding_1 (Positi  (None, 64, 64)      0           ['embedding_1[0][0]']            \n",
      " onalEmbedding)                                                                                   \n",
      "                                                                                                  \n",
      " encoder (Encoder)              ((None, 64, 64),     141250      ['positional_embedding[0][0]']   \n",
      "                                 (None, 64, 64))                                                  \n",
      "                                                                                                  \n",
      " decoder (Decoder)              (None, 64, 64)       274051      ['positional_embedding_1[0][0]', \n",
      "                                                                  'encoder[0][0]',                \n",
      "                                                                  'encoder[0][1]']                \n",
      "                                                                                                  \n",
      " encoder_1 (Encoder)            ((None, 64, 64),     141250      ['encoder[0][1]']                \n",
      "                                 (None, 64, 64))                                                  \n",
      "                                                                                                  \n",
      " decoder_1 (Decoder)            (None, 64, 64)       274051      ['decoder[0][0]',                \n",
      "                                                                  'encoder_1[0][0]',              \n",
      "                                                                  'encoder_1[0][1]']              \n",
      "                                                                                                  \n",
      " encoder_2 (Encoder)            ((None, 64, 64),     141250      ['encoder_1[0][1]']              \n",
      "                                 (None, 64, 64))                                                  \n",
      "                                                                                                  \n",
      " decoder_2 (Decoder)            (None, 64, 64)       274051      ['decoder_1[0][0]',              \n",
      "                                                                  'encoder_2[0][0]',              \n",
      "                                                                  'encoder_2[0][1]']              \n",
      "                                                                                                  \n",
      " encoder_3 (Encoder)            ((None, 64, 64),     141250      ['encoder_2[0][1]']              \n",
      "                                 (None, 64, 64))                                                  \n",
      "                                                                                                  \n",
      " decoder_3 (Decoder)            (None, 64, 64)       274051      ['decoder_2[0][0]',              \n",
      "                                                                  'encoder_3[0][0]',              \n",
      "                                                                  'encoder_3[0][1]']              \n",
      "                                                                                                  \n",
      " encoder_4 (Encoder)            ((None, 64, 64),     141250      ['encoder_3[0][1]']              \n",
      "                                 (None, 64, 64))                                                  \n",
      "                                                                                                  \n",
      " decoder_4 (Decoder)            (None, 64, 64)       274051      ['decoder_3[0][0]',              \n",
      "                                                                  'encoder_4[0][0]',              \n",
      "                                                                  'encoder_4[0][1]']              \n",
      "                                                                                                  \n",
      " encoder_5 (Encoder)            ((None, 64, 64),     141250      ['encoder_4[0][1]']              \n",
      "                                 (None, 64, 64))                                                  \n",
      "                                                                                                  \n",
      " decoder_5 (Decoder)            (None, 64, 64)       274051      ['decoder_4[0][0]',              \n",
      "                                                                  'encoder_5[0][0]',              \n",
      "                                                                  'encoder_5[0][1]']              \n",
      "                                                                                                  \n",
      " flatten (Flatten)              (None, 4096)         0           ['decoder_5[0][0]']              \n",
      "                                                                                                  \n",
      " dense_49 (Dense)               (None, 1048)         4293656     ['flatten[0][0]']                \n",
      "                                                                                                  \n",
      " tf.nn.softmax (TFOpLambda)     (None, 1048)         0           ['dense_49[0][0]']               \n",
      "                                                                                                  \n",
      "==================================================================================================\n",
      "Total params: 6,919,862\n",
      "Trainable params: 6,915,992\n",
      "Non-trainable params: 3,870\n",
      "__________________________________________________________________________________________________\n"
     ]
    }
   ],
   "source": [
    "model.summary()"
   ]
  },
  {
   "cell_type": "code",
   "execution_count": 18,
   "id": "ca6804bd",
   "metadata": {},
   "outputs": [],
   "source": [
    "model.compile(loss=tf.keras.losses.SparseCategoricalCrossentropy(), optimizer=tf.keras.optimizers.Adam(learning_rate = 0.001, beta_1 = 0.01))"
   ]
  },
  {
   "cell_type": "code",
   "execution_count": 15,
   "id": "8c0c1a1f",
   "metadata": {},
   "outputs": [],
   "source": [
    "loss_history = []"
   ]
  },
  {
   "cell_type": "code",
   "execution_count": 19,
   "id": "fad765e4",
   "metadata": {
    "scrolled": false
   },
   "outputs": [
    {
     "name": "stdout",
     "output_type": "stream",
     "text": [
      "Epoch 1/100\n",
      "6/6 [==============================] - 110s 8s/step - loss: 6.8975\n",
      "Epoch 2/100\n",
      "6/6 [==============================] - 46s 8s/step - loss: 6.3647\n",
      "Epoch 3/100\n",
      "6/6 [==============================] - 46s 8s/step - loss: 6.0722\n",
      "Epoch 4/100\n",
      "6/6 [==============================] - 46s 8s/step - loss: 5.8878\n",
      "Epoch 5/100\n",
      "6/6 [==============================] - 45s 7s/step - loss: 5.2204\n",
      "Epoch 6/100\n",
      "6/6 [==============================] - 47s 8s/step - loss: 4.6624\n",
      "Epoch 7/100\n",
      "6/6 [==============================] - 45s 8s/step - loss: 4.3880\n",
      "Epoch 8/100\n",
      "6/6 [==============================] - 46s 8s/step - loss: 4.1365\n",
      "Epoch 9/100\n",
      "6/6 [==============================] - 46s 8s/step - loss: 3.9937\n",
      "Epoch 10/100\n",
      "6/6 [==============================] - 45s 8s/step - loss: 4.0397\n",
      "Epoch 11/100\n",
      "6/6 [==============================] - 45s 8s/step - loss: 3.7389\n",
      "Epoch 12/100\n",
      "6/6 [==============================] - 45s 8s/step - loss: 3.5491\n",
      "Epoch 13/100\n",
      "6/6 [==============================] - 45s 8s/step - loss: 3.4568\n",
      "Epoch 14/100\n",
      "6/6 [==============================] - 46s 8s/step - loss: 3.4417\n",
      "Epoch 15/100\n",
      "6/6 [==============================] - 45s 8s/step - loss: 3.2007\n",
      "Epoch 16/100\n",
      "6/6 [==============================] - 46s 8s/step - loss: 2.9589\n",
      "Epoch 17/100\n",
      "5/6 [========================>.....] - ETA: 7s - loss: 2.7471 "
     ]
    },
    {
     "ename": "KeyboardInterrupt",
     "evalue": "",
     "output_type": "error",
     "traceback": [
      "\u001b[1;31m---------------------------------------------------------------------------\u001b[0m",
      "\u001b[1;31mKeyboardInterrupt\u001b[0m                         Traceback (most recent call last)",
      "Input \u001b[1;32mIn [19]\u001b[0m, in \u001b[0;36m<cell line: 1>\u001b[1;34m()\u001b[0m\n\u001b[1;32m----> 1\u001b[0m history \u001b[38;5;241m=\u001b[39m \u001b[43mmodel\u001b[49m\u001b[38;5;241;43m.\u001b[39;49m\u001b[43mfit\u001b[49m\u001b[43m(\u001b[49m\u001b[43m(\u001b[49m\u001b[43mdataset\u001b[49m\u001b[38;5;241;43m.\u001b[39;49m\u001b[43mencoder_inputs\u001b[49m\u001b[43m,\u001b[49m\u001b[43m \u001b[49m\u001b[43mdataset\u001b[49m\u001b[38;5;241;43m.\u001b[39;49m\u001b[43mdecoder_inputs\u001b[49m\u001b[43m)\u001b[49m\u001b[43m,\u001b[49m\u001b[43m \u001b[49m\u001b[43mdataset\u001b[49m\u001b[38;5;241;43m.\u001b[39;49m\u001b[43moutput_vectors\u001b[49m\u001b[43m,\u001b[49m\u001b[43m \u001b[49m\u001b[43mbatch_size\u001b[49m\u001b[43m \u001b[49m\u001b[38;5;241;43m=\u001b[39;49m\u001b[43m \u001b[49m\u001b[38;5;241;43m256\u001b[39;49m\u001b[43m,\u001b[49m\u001b[43m \u001b[49m\u001b[43mepochs\u001b[49m\u001b[43m \u001b[49m\u001b[38;5;241;43m=\u001b[39;49m\u001b[38;5;241;43m100\u001b[39;49m\u001b[43m)\u001b[49m\n\u001b[0;32m      2\u001b[0m loss_history \u001b[38;5;241m+\u001b[39m\u001b[38;5;241m=\u001b[39m history\u001b[38;5;241m.\u001b[39mhistory[\u001b[38;5;124m'\u001b[39m\u001b[38;5;124mloss\u001b[39m\u001b[38;5;124m'\u001b[39m]\n",
      "File \u001b[1;32m~\\Documents\\programs\\MachineLearning\\ML\\lib\\site-packages\\keras\\utils\\traceback_utils.py:64\u001b[0m, in \u001b[0;36mfilter_traceback.<locals>.error_handler\u001b[1;34m(*args, **kwargs)\u001b[0m\n\u001b[0;32m     62\u001b[0m filtered_tb \u001b[38;5;241m=\u001b[39m \u001b[38;5;28;01mNone\u001b[39;00m\n\u001b[0;32m     63\u001b[0m \u001b[38;5;28;01mtry\u001b[39;00m:\n\u001b[1;32m---> 64\u001b[0m   \u001b[38;5;28;01mreturn\u001b[39;00m fn(\u001b[38;5;241m*\u001b[39margs, \u001b[38;5;241m*\u001b[39m\u001b[38;5;241m*\u001b[39mkwargs)\n\u001b[0;32m     65\u001b[0m \u001b[38;5;28;01mexcept\u001b[39;00m \u001b[38;5;167;01mException\u001b[39;00m \u001b[38;5;28;01mas\u001b[39;00m e:  \u001b[38;5;66;03m# pylint: disable=broad-except\u001b[39;00m\n\u001b[0;32m     66\u001b[0m   filtered_tb \u001b[38;5;241m=\u001b[39m _process_traceback_frames(e\u001b[38;5;241m.\u001b[39m__traceback__)\n",
      "File \u001b[1;32m~\\Documents\\programs\\MachineLearning\\ML\\lib\\site-packages\\keras\\engine\\training.py:1409\u001b[0m, in \u001b[0;36mModel.fit\u001b[1;34m(self, x, y, batch_size, epochs, verbose, callbacks, validation_split, validation_data, shuffle, class_weight, sample_weight, initial_epoch, steps_per_epoch, validation_steps, validation_batch_size, validation_freq, max_queue_size, workers, use_multiprocessing)\u001b[0m\n\u001b[0;32m   1402\u001b[0m \u001b[38;5;28;01mwith\u001b[39;00m tf\u001b[38;5;241m.\u001b[39mprofiler\u001b[38;5;241m.\u001b[39mexperimental\u001b[38;5;241m.\u001b[39mTrace(\n\u001b[0;32m   1403\u001b[0m     \u001b[38;5;124m'\u001b[39m\u001b[38;5;124mtrain\u001b[39m\u001b[38;5;124m'\u001b[39m,\n\u001b[0;32m   1404\u001b[0m     epoch_num\u001b[38;5;241m=\u001b[39mepoch,\n\u001b[0;32m   1405\u001b[0m     step_num\u001b[38;5;241m=\u001b[39mstep,\n\u001b[0;32m   1406\u001b[0m     batch_size\u001b[38;5;241m=\u001b[39mbatch_size,\n\u001b[0;32m   1407\u001b[0m     _r\u001b[38;5;241m=\u001b[39m\u001b[38;5;241m1\u001b[39m):\n\u001b[0;32m   1408\u001b[0m   callbacks\u001b[38;5;241m.\u001b[39mon_train_batch_begin(step)\n\u001b[1;32m-> 1409\u001b[0m   tmp_logs \u001b[38;5;241m=\u001b[39m \u001b[38;5;28;43mself\u001b[39;49m\u001b[38;5;241;43m.\u001b[39;49m\u001b[43mtrain_function\u001b[49m\u001b[43m(\u001b[49m\u001b[43miterator\u001b[49m\u001b[43m)\u001b[49m\n\u001b[0;32m   1410\u001b[0m   \u001b[38;5;28;01mif\u001b[39;00m data_handler\u001b[38;5;241m.\u001b[39mshould_sync:\n\u001b[0;32m   1411\u001b[0m     context\u001b[38;5;241m.\u001b[39masync_wait()\n",
      "File \u001b[1;32m~\\Documents\\programs\\MachineLearning\\ML\\lib\\site-packages\\tensorflow\\python\\util\\traceback_utils.py:150\u001b[0m, in \u001b[0;36mfilter_traceback.<locals>.error_handler\u001b[1;34m(*args, **kwargs)\u001b[0m\n\u001b[0;32m    148\u001b[0m filtered_tb \u001b[38;5;241m=\u001b[39m \u001b[38;5;28;01mNone\u001b[39;00m\n\u001b[0;32m    149\u001b[0m \u001b[38;5;28;01mtry\u001b[39;00m:\n\u001b[1;32m--> 150\u001b[0m   \u001b[38;5;28;01mreturn\u001b[39;00m fn(\u001b[38;5;241m*\u001b[39margs, \u001b[38;5;241m*\u001b[39m\u001b[38;5;241m*\u001b[39mkwargs)\n\u001b[0;32m    151\u001b[0m \u001b[38;5;28;01mexcept\u001b[39;00m \u001b[38;5;167;01mException\u001b[39;00m \u001b[38;5;28;01mas\u001b[39;00m e:\n\u001b[0;32m    152\u001b[0m   filtered_tb \u001b[38;5;241m=\u001b[39m _process_traceback_frames(e\u001b[38;5;241m.\u001b[39m__traceback__)\n",
      "File \u001b[1;32m~\\Documents\\programs\\MachineLearning\\ML\\lib\\site-packages\\tensorflow\\python\\eager\\def_function.py:915\u001b[0m, in \u001b[0;36mFunction.__call__\u001b[1;34m(self, *args, **kwds)\u001b[0m\n\u001b[0;32m    912\u001b[0m compiler \u001b[38;5;241m=\u001b[39m \u001b[38;5;124m\"\u001b[39m\u001b[38;5;124mxla\u001b[39m\u001b[38;5;124m\"\u001b[39m \u001b[38;5;28;01mif\u001b[39;00m \u001b[38;5;28mself\u001b[39m\u001b[38;5;241m.\u001b[39m_jit_compile \u001b[38;5;28;01melse\u001b[39;00m \u001b[38;5;124m\"\u001b[39m\u001b[38;5;124mnonXla\u001b[39m\u001b[38;5;124m\"\u001b[39m\n\u001b[0;32m    914\u001b[0m \u001b[38;5;28;01mwith\u001b[39;00m OptionalXlaContext(\u001b[38;5;28mself\u001b[39m\u001b[38;5;241m.\u001b[39m_jit_compile):\n\u001b[1;32m--> 915\u001b[0m   result \u001b[38;5;241m=\u001b[39m \u001b[38;5;28mself\u001b[39m\u001b[38;5;241m.\u001b[39m_call(\u001b[38;5;241m*\u001b[39margs, \u001b[38;5;241m*\u001b[39m\u001b[38;5;241m*\u001b[39mkwds)\n\u001b[0;32m    917\u001b[0m new_tracing_count \u001b[38;5;241m=\u001b[39m \u001b[38;5;28mself\u001b[39m\u001b[38;5;241m.\u001b[39mexperimental_get_tracing_count()\n\u001b[0;32m    918\u001b[0m without_tracing \u001b[38;5;241m=\u001b[39m (tracing_count \u001b[38;5;241m==\u001b[39m new_tracing_count)\n",
      "File \u001b[1;32m~\\Documents\\programs\\MachineLearning\\ML\\lib\\site-packages\\tensorflow\\python\\eager\\def_function.py:947\u001b[0m, in \u001b[0;36mFunction._call\u001b[1;34m(self, *args, **kwds)\u001b[0m\n\u001b[0;32m    944\u001b[0m   \u001b[38;5;28mself\u001b[39m\u001b[38;5;241m.\u001b[39m_lock\u001b[38;5;241m.\u001b[39mrelease()\n\u001b[0;32m    945\u001b[0m   \u001b[38;5;66;03m# In this case we have created variables on the first call, so we run the\u001b[39;00m\n\u001b[0;32m    946\u001b[0m   \u001b[38;5;66;03m# defunned version which is guaranteed to never create variables.\u001b[39;00m\n\u001b[1;32m--> 947\u001b[0m   \u001b[38;5;28;01mreturn\u001b[39;00m \u001b[38;5;28mself\u001b[39m\u001b[38;5;241m.\u001b[39m_stateless_fn(\u001b[38;5;241m*\u001b[39margs, \u001b[38;5;241m*\u001b[39m\u001b[38;5;241m*\u001b[39mkwds)  \u001b[38;5;66;03m# pylint: disable=not-callable\u001b[39;00m\n\u001b[0;32m    948\u001b[0m \u001b[38;5;28;01melif\u001b[39;00m \u001b[38;5;28mself\u001b[39m\u001b[38;5;241m.\u001b[39m_stateful_fn \u001b[38;5;129;01mis\u001b[39;00m \u001b[38;5;129;01mnot\u001b[39;00m \u001b[38;5;28;01mNone\u001b[39;00m:\n\u001b[0;32m    949\u001b[0m   \u001b[38;5;66;03m# Release the lock early so that multiple threads can perform the call\u001b[39;00m\n\u001b[0;32m    950\u001b[0m   \u001b[38;5;66;03m# in parallel.\u001b[39;00m\n\u001b[0;32m    951\u001b[0m   \u001b[38;5;28mself\u001b[39m\u001b[38;5;241m.\u001b[39m_lock\u001b[38;5;241m.\u001b[39mrelease()\n",
      "File \u001b[1;32m~\\Documents\\programs\\MachineLearning\\ML\\lib\\site-packages\\tensorflow\\python\\eager\\function.py:2453\u001b[0m, in \u001b[0;36mFunction.__call__\u001b[1;34m(self, *args, **kwargs)\u001b[0m\n\u001b[0;32m   2450\u001b[0m \u001b[38;5;28;01mwith\u001b[39;00m \u001b[38;5;28mself\u001b[39m\u001b[38;5;241m.\u001b[39m_lock:\n\u001b[0;32m   2451\u001b[0m   (graph_function,\n\u001b[0;32m   2452\u001b[0m    filtered_flat_args) \u001b[38;5;241m=\u001b[39m \u001b[38;5;28mself\u001b[39m\u001b[38;5;241m.\u001b[39m_maybe_define_function(args, kwargs)\n\u001b[1;32m-> 2453\u001b[0m \u001b[38;5;28;01mreturn\u001b[39;00m \u001b[43mgraph_function\u001b[49m\u001b[38;5;241;43m.\u001b[39;49m\u001b[43m_call_flat\u001b[49m\u001b[43m(\u001b[49m\n\u001b[0;32m   2454\u001b[0m \u001b[43m    \u001b[49m\u001b[43mfiltered_flat_args\u001b[49m\u001b[43m,\u001b[49m\u001b[43m \u001b[49m\u001b[43mcaptured_inputs\u001b[49m\u001b[38;5;241;43m=\u001b[39;49m\u001b[43mgraph_function\u001b[49m\u001b[38;5;241;43m.\u001b[39;49m\u001b[43mcaptured_inputs\u001b[49m\u001b[43m)\u001b[49m\n",
      "File \u001b[1;32m~\\Documents\\programs\\MachineLearning\\ML\\lib\\site-packages\\tensorflow\\python\\eager\\function.py:1860\u001b[0m, in \u001b[0;36mConcreteFunction._call_flat\u001b[1;34m(self, args, captured_inputs, cancellation_manager)\u001b[0m\n\u001b[0;32m   1856\u001b[0m possible_gradient_type \u001b[38;5;241m=\u001b[39m gradients_util\u001b[38;5;241m.\u001b[39mPossibleTapeGradientTypes(args)\n\u001b[0;32m   1857\u001b[0m \u001b[38;5;28;01mif\u001b[39;00m (possible_gradient_type \u001b[38;5;241m==\u001b[39m gradients_util\u001b[38;5;241m.\u001b[39mPOSSIBLE_GRADIENT_TYPES_NONE\n\u001b[0;32m   1858\u001b[0m     \u001b[38;5;129;01mand\u001b[39;00m executing_eagerly):\n\u001b[0;32m   1859\u001b[0m   \u001b[38;5;66;03m# No tape is watching; skip to running the function.\u001b[39;00m\n\u001b[1;32m-> 1860\u001b[0m   \u001b[38;5;28;01mreturn\u001b[39;00m \u001b[38;5;28mself\u001b[39m\u001b[38;5;241m.\u001b[39m_build_call_outputs(\u001b[38;5;28;43mself\u001b[39;49m\u001b[38;5;241;43m.\u001b[39;49m\u001b[43m_inference_function\u001b[49m\u001b[38;5;241;43m.\u001b[39;49m\u001b[43mcall\u001b[49m\u001b[43m(\u001b[49m\n\u001b[0;32m   1861\u001b[0m \u001b[43m      \u001b[49m\u001b[43mctx\u001b[49m\u001b[43m,\u001b[49m\u001b[43m \u001b[49m\u001b[43margs\u001b[49m\u001b[43m,\u001b[49m\u001b[43m \u001b[49m\u001b[43mcancellation_manager\u001b[49m\u001b[38;5;241;43m=\u001b[39;49m\u001b[43mcancellation_manager\u001b[49m\u001b[43m)\u001b[49m)\n\u001b[0;32m   1862\u001b[0m forward_backward \u001b[38;5;241m=\u001b[39m \u001b[38;5;28mself\u001b[39m\u001b[38;5;241m.\u001b[39m_select_forward_and_backward_functions(\n\u001b[0;32m   1863\u001b[0m     args,\n\u001b[0;32m   1864\u001b[0m     possible_gradient_type,\n\u001b[0;32m   1865\u001b[0m     executing_eagerly)\n\u001b[0;32m   1866\u001b[0m forward_function, args_with_tangents \u001b[38;5;241m=\u001b[39m forward_backward\u001b[38;5;241m.\u001b[39mforward()\n",
      "File \u001b[1;32m~\\Documents\\programs\\MachineLearning\\ML\\lib\\site-packages\\tensorflow\\python\\eager\\function.py:497\u001b[0m, in \u001b[0;36m_EagerDefinedFunction.call\u001b[1;34m(self, ctx, args, cancellation_manager)\u001b[0m\n\u001b[0;32m    495\u001b[0m \u001b[38;5;28;01mwith\u001b[39;00m _InterpolateFunctionError(\u001b[38;5;28mself\u001b[39m):\n\u001b[0;32m    496\u001b[0m   \u001b[38;5;28;01mif\u001b[39;00m cancellation_manager \u001b[38;5;129;01mis\u001b[39;00m \u001b[38;5;28;01mNone\u001b[39;00m:\n\u001b[1;32m--> 497\u001b[0m     outputs \u001b[38;5;241m=\u001b[39m \u001b[43mexecute\u001b[49m\u001b[38;5;241;43m.\u001b[39;49m\u001b[43mexecute\u001b[49m\u001b[43m(\u001b[49m\n\u001b[0;32m    498\u001b[0m \u001b[43m        \u001b[49m\u001b[38;5;28;43mstr\u001b[39;49m\u001b[43m(\u001b[49m\u001b[38;5;28;43mself\u001b[39;49m\u001b[38;5;241;43m.\u001b[39;49m\u001b[43msignature\u001b[49m\u001b[38;5;241;43m.\u001b[39;49m\u001b[43mname\u001b[49m\u001b[43m)\u001b[49m\u001b[43m,\u001b[49m\n\u001b[0;32m    499\u001b[0m \u001b[43m        \u001b[49m\u001b[43mnum_outputs\u001b[49m\u001b[38;5;241;43m=\u001b[39;49m\u001b[38;5;28;43mself\u001b[39;49m\u001b[38;5;241;43m.\u001b[39;49m\u001b[43m_num_outputs\u001b[49m\u001b[43m,\u001b[49m\n\u001b[0;32m    500\u001b[0m \u001b[43m        \u001b[49m\u001b[43minputs\u001b[49m\u001b[38;5;241;43m=\u001b[39;49m\u001b[43margs\u001b[49m\u001b[43m,\u001b[49m\n\u001b[0;32m    501\u001b[0m \u001b[43m        \u001b[49m\u001b[43mattrs\u001b[49m\u001b[38;5;241;43m=\u001b[39;49m\u001b[43mattrs\u001b[49m\u001b[43m,\u001b[49m\n\u001b[0;32m    502\u001b[0m \u001b[43m        \u001b[49m\u001b[43mctx\u001b[49m\u001b[38;5;241;43m=\u001b[39;49m\u001b[43mctx\u001b[49m\u001b[43m)\u001b[49m\n\u001b[0;32m    503\u001b[0m   \u001b[38;5;28;01melse\u001b[39;00m:\n\u001b[0;32m    504\u001b[0m     outputs \u001b[38;5;241m=\u001b[39m execute\u001b[38;5;241m.\u001b[39mexecute_with_cancellation(\n\u001b[0;32m    505\u001b[0m         \u001b[38;5;28mstr\u001b[39m(\u001b[38;5;28mself\u001b[39m\u001b[38;5;241m.\u001b[39msignature\u001b[38;5;241m.\u001b[39mname),\n\u001b[0;32m    506\u001b[0m         num_outputs\u001b[38;5;241m=\u001b[39m\u001b[38;5;28mself\u001b[39m\u001b[38;5;241m.\u001b[39m_num_outputs,\n\u001b[1;32m   (...)\u001b[0m\n\u001b[0;32m    509\u001b[0m         ctx\u001b[38;5;241m=\u001b[39mctx,\n\u001b[0;32m    510\u001b[0m         cancellation_manager\u001b[38;5;241m=\u001b[39mcancellation_manager)\n",
      "File \u001b[1;32m~\\Documents\\programs\\MachineLearning\\ML\\lib\\site-packages\\tensorflow\\python\\eager\\execute.py:54\u001b[0m, in \u001b[0;36mquick_execute\u001b[1;34m(op_name, num_outputs, inputs, attrs, ctx, name)\u001b[0m\n\u001b[0;32m     52\u001b[0m \u001b[38;5;28;01mtry\u001b[39;00m:\n\u001b[0;32m     53\u001b[0m   ctx\u001b[38;5;241m.\u001b[39mensure_initialized()\n\u001b[1;32m---> 54\u001b[0m   tensors \u001b[38;5;241m=\u001b[39m \u001b[43mpywrap_tfe\u001b[49m\u001b[38;5;241;43m.\u001b[39;49m\u001b[43mTFE_Py_Execute\u001b[49m\u001b[43m(\u001b[49m\u001b[43mctx\u001b[49m\u001b[38;5;241;43m.\u001b[39;49m\u001b[43m_handle\u001b[49m\u001b[43m,\u001b[49m\u001b[43m \u001b[49m\u001b[43mdevice_name\u001b[49m\u001b[43m,\u001b[49m\u001b[43m \u001b[49m\u001b[43mop_name\u001b[49m\u001b[43m,\u001b[49m\n\u001b[0;32m     55\u001b[0m \u001b[43m                                      \u001b[49m\u001b[43minputs\u001b[49m\u001b[43m,\u001b[49m\u001b[43m \u001b[49m\u001b[43mattrs\u001b[49m\u001b[43m,\u001b[49m\u001b[43m \u001b[49m\u001b[43mnum_outputs\u001b[49m\u001b[43m)\u001b[49m\n\u001b[0;32m     56\u001b[0m \u001b[38;5;28;01mexcept\u001b[39;00m core\u001b[38;5;241m.\u001b[39m_NotOkStatusException \u001b[38;5;28;01mas\u001b[39;00m e:\n\u001b[0;32m     57\u001b[0m   \u001b[38;5;28;01mif\u001b[39;00m name \u001b[38;5;129;01mis\u001b[39;00m \u001b[38;5;129;01mnot\u001b[39;00m \u001b[38;5;28;01mNone\u001b[39;00m:\n",
      "\u001b[1;31mKeyboardInterrupt\u001b[0m: "
     ]
    }
   ],
   "source": [
    "history = model.fit((dataset.encoder_inputs, dataset.decoder_inputs), dataset.output_vectors, batch_size = 256, epochs =100)\n",
    "loss_history += history.history['loss']"
   ]
  },
  {
   "cell_type": "code",
   "execution_count": null,
   "id": "9292db4a",
   "metadata": {
    "scrolled": false
   },
   "outputs": [],
   "source": [
    "plt.figure(figsize=(20, 20))\n",
    "plt.plot(loss_history)"
   ]
  },
  {
   "cell_type": "code",
   "execution_count": null,
   "id": "2a8156c3",
   "metadata": {},
   "outputs": [],
   "source": [
    "key = \"I'd like to tell you about one such child\""
   ]
  },
  {
   "cell_type": "code",
   "execution_count": null,
   "id": "dd052269",
   "metadata": {},
   "outputs": [],
   "source": [
    "bpe_obj = BPE(codes = codec_file)\n",
    "key = bpe_obj.process_line(key)\n",
    "\n",
    "encoding = dataset.primary_vectorizer(key).numpy().reshape(1, 64)\n",
    "print(encoding)\n",
    "decoding = np.zeros(shape=(1, 64))\n",
    "\n",
    "for i in tqdm(range(64)):\n",
    "    decoding[0, i] = tf.argmax(model((decoding, encoding)), -1)\n",
    "\n",
    "decoding = tf.convert_to_tensor(decoding)\n",
    "translation = dataset.convert_to_secondary(decoding)\n",
    "print(\"\\n\")\n",
    "print(translation.replace('@@ ', ''))"
   ]
  },
  {
   "cell_type": "code",
   "execution_count": null,
   "id": "ae328f64",
   "metadata": {},
   "outputs": [],
   "source": []
  },
  {
   "cell_type": "code",
   "execution_count": null,
   "id": "1891f498",
   "metadata": {},
   "outputs": [],
   "source": []
  }
 ],
 "metadata": {
  "kernelspec": {
   "display_name": "Python 3 (ipykernel)",
   "language": "python",
   "name": "python3"
  },
  "language_info": {
   "codemirror_mode": {
    "name": "ipython",
    "version": 3
   },
   "file_extension": ".py",
   "mimetype": "text/x-python",
   "name": "python",
   "nbconvert_exporter": "python",
   "pygments_lexer": "ipython3",
   "version": "3.9.5"
  }
 },
 "nbformat": 4,
 "nbformat_minor": 5
}
